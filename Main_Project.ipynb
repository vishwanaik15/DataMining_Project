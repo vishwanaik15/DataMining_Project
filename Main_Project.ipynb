{
  "nbformat": 4,
  "nbformat_minor": 0,
  "metadata": {
    "colab": {
      "name": "Main_Project.ipynb",
      "provenance": [],
      "authorship_tag": "ABX9TyMc0ld+jiW6vkFGO4ybw2DC",
      "include_colab_link": true
    },
    "kernelspec": {
      "name": "python3",
      "display_name": "Python 3"
    },
    "language_info": {
      "name": "python"
    }
  },
  "cells": [
    {
      "cell_type": "markdown",
      "metadata": {
        "id": "view-in-github",
        "colab_type": "text"
      },
      "source": [
        "<a href=\"https://colab.research.google.com/github/vishwanaik15/DataMining_Project/blob/main/Main_Project.ipynb\" target=\"_parent\"><img src=\"https://colab.research.google.com/assets/colab-badge.svg\" alt=\"Open In Colab\"/></a>"
      ]
    },
    {
      "cell_type": "markdown",
      "metadata": {
        "id": "eWT-_h603ZK5"
      },
      "source": [
        "**Data Mining Term Project**"
      ]
    },
    {
      "cell_type": "markdown",
      "metadata": {
        "id": "F1UPkuCx3kp0"
      },
      "source": [
        "**Import required dependencies**"
      ]
    },
    {
      "cell_type": "code",
      "metadata": {
        "colab": {
          "base_uri": "https://localhost:8080/"
        },
        "id": "8dddF75JmUrr",
        "outputId": "e1f3e345-4c04-4f82-b594-1036403bdc5e"
      },
      "source": [
        "import os\n",
        "import sys\n",
        "import re\n",
        "import numpy as np\n",
        "import seaborn as sb\n",
        "import pandas as pd\n",
        "import matplotlib.pyplot as plt\n",
        "from matplotlib.ticker import FuncFormatter\n",
        "from sklearn.model_selection import train_test_split\n",
        "from sklearn import feature_extraction, linear_model, model_selection,preprocessing\n",
        "from sklearn.pipeline import Pipeline\n",
        "from sklearn.feature_extraction.text import TfidfVectorizer, CountVectorizer, TfidfTransformer\n",
        "from sklearn.naive_bayes import MultinomialNB\n",
        "from sklearn.metrics import confusion_matrix,f1_score,recall_score,precision_score,classification_report\n",
        "from sklearn.feature_selection import chi2\n",
        "from sklearn.linear_model import LogisticRegression,Ridge,RidgeClassifier\n",
        "from sklearn.neighbors import KNeighborsClassifier\n",
        "from sklearn.svm import SVC,LinearSVC\n",
        "from sklearn.metrics import accuracy_score\n",
        "import time\n",
        "from time import sleep\n",
        "#nltk toolkit used for stopwords removing\n",
        "import nltk\n",
        "from nltk.corpus import stopwords\n",
        "from nltk import word_tokenize\n",
        "nltk.download('punkt')\n",
        "nltk.download(\"stopwords\")"
      ],
      "execution_count": 3,
      "outputs": [
        {
          "output_type": "stream",
          "text": [
            "[nltk_data] Downloading package punkt to /root/nltk_data...\n",
            "[nltk_data]   Package punkt is already up-to-date!\n",
            "[nltk_data] Downloading package stopwords to /root/nltk_data...\n",
            "[nltk_data]   Package stopwords is already up-to-date!\n"
          ],
          "name": "stdout"
        },
        {
          "output_type": "execute_result",
          "data": {
            "text/plain": [
              "True"
            ]
          },
          "metadata": {
            "tags": []
          },
          "execution_count": 3
        }
      ]
    },
    {
      "cell_type": "markdown",
      "metadata": {
        "id": "n232bEup3zU8"
      },
      "source": [
        "**Mount google drive.**"
      ]
    },
    {
      "cell_type": "code",
      "metadata": {
        "colab": {
          "base_uri": "https://localhost:8080/"
        },
        "id": "0tkkt5DVmdUT",
        "outputId": "672e4695-a24f-4dc5-b93e-a132b8bae90e"
      },
      "source": [
        "from google.colab import drive\n",
        "drive.mount('/content/gdrive')"
      ],
      "execution_count": 4,
      "outputs": [
        {
          "output_type": "stream",
          "text": [
            "Drive already mounted at /content/gdrive; to attempt to forcibly remount, call drive.mount(\"/content/gdrive\", force_remount=True).\n"
          ],
          "name": "stdout"
        }
      ]
    },
    {
      "cell_type": "code",
      "metadata": {
        "id": "EJgVXrm0mhFW"
      },
      "source": [
        "os.chdir('/content/gdrive/My Drive/Data Mining/')"
      ],
      "execution_count": 5,
      "outputs": []
    },
    {
      "cell_type": "markdown",
      "metadata": {
        "id": "xHw4kxAz4GD-"
      },
      "source": [
        "**Data acquisition from google drive**"
      ]
    },
    {
      "cell_type": "code",
      "metadata": {
        "colab": {
          "base_uri": "https://localhost:8080/",
          "height": 306
        },
        "id": "6w_57YRlmogZ",
        "outputId": "cbe455e7-c974-4f85-cf88-25981bb162dd"
      },
      "source": [
        "dataset =  pd.read_csv(\"data.csv\",encoding='latin1',low_memory=False)\n",
        "print(\"Length of review data: \",len(dataset))\n",
        "dataset.head()"
      ],
      "execution_count": 6,
      "outputs": [
        {
          "output_type": "stream",
          "text": [
            "Length of review data:  1415138\n"
          ],
          "name": "stdout"
        },
        {
          "output_type": "execute_result",
          "data": {
            "text/html": [
              "<div>\n",
              "<style scoped>\n",
              "    .dataframe tbody tr th:only-of-type {\n",
              "        vertical-align: middle;\n",
              "    }\n",
              "\n",
              "    .dataframe tbody tr th {\n",
              "        vertical-align: top;\n",
              "    }\n",
              "\n",
              "    .dataframe thead th {\n",
              "        text-align: right;\n",
              "    }\n",
              "</style>\n",
              "<table border=\"1\" class=\"dataframe\">\n",
              "  <thead>\n",
              "    <tr style=\"text-align: right;\">\n",
              "      <th></th>\n",
              "      <th>phone_url</th>\n",
              "      <th>date</th>\n",
              "      <th>lang</th>\n",
              "      <th>country</th>\n",
              "      <th>source</th>\n",
              "      <th>domain</th>\n",
              "      <th>score</th>\n",
              "      <th>score_max</th>\n",
              "      <th>extract</th>\n",
              "      <th>author</th>\n",
              "      <th>product</th>\n",
              "    </tr>\n",
              "  </thead>\n",
              "  <tbody>\n",
              "    <tr>\n",
              "      <th>0</th>\n",
              "      <td>/cellphones/samsung-galaxy-s8/</td>\n",
              "      <td>5/2/2017</td>\n",
              "      <td>en</td>\n",
              "      <td>us</td>\n",
              "      <td>Verizon Wireless</td>\n",
              "      <td>verizonwireless.com</td>\n",
              "      <td>10</td>\n",
              "      <td>10</td>\n",
              "      <td>As a diehard Samsung fan who has had every Sam...</td>\n",
              "      <td>CarolAnn35</td>\n",
              "      <td>Samsung Galaxy S8</td>\n",
              "    </tr>\n",
              "    <tr>\n",
              "      <th>1</th>\n",
              "      <td>/cellphones/samsung-galaxy-s8/</td>\n",
              "      <td>4/28/2017</td>\n",
              "      <td>en</td>\n",
              "      <td>us</td>\n",
              "      <td>Phone Arena</td>\n",
              "      <td>phonearena.com</td>\n",
              "      <td>10</td>\n",
              "      <td>10</td>\n",
              "      <td>Love the phone. the phone is sleek and smooth ...</td>\n",
              "      <td>james0923</td>\n",
              "      <td>Samsung Galaxy S8</td>\n",
              "    </tr>\n",
              "    <tr>\n",
              "      <th>2</th>\n",
              "      <td>/cellphones/samsung-galaxy-s8/</td>\n",
              "      <td>5/4/2017</td>\n",
              "      <td>en</td>\n",
              "      <td>us</td>\n",
              "      <td>Amazon</td>\n",
              "      <td>amazon.com</td>\n",
              "      <td>6</td>\n",
              "      <td>10</td>\n",
              "      <td>Adequate feel. Nice heft. Processor's still sl...</td>\n",
              "      <td>R. Craig</td>\n",
              "      <td>Samsung Galaxy S8 (64GB) G950U 5.8\" 4G LTE Unl...</td>\n",
              "    </tr>\n",
              "    <tr>\n",
              "      <th>3</th>\n",
              "      <td>/cellphones/samsung-galaxy-s8/</td>\n",
              "      <td>5/2/2017</td>\n",
              "      <td>en</td>\n",
              "      <td>us</td>\n",
              "      <td>Samsung</td>\n",
              "      <td>samsung.com</td>\n",
              "      <td>9.2</td>\n",
              "      <td>10</td>\n",
              "      <td>Never disappointed. One of the reasons I've be...</td>\n",
              "      <td>Buster2020</td>\n",
              "      <td>Samsung Galaxy S8 64GB (AT&amp;T)</td>\n",
              "    </tr>\n",
              "    <tr>\n",
              "      <th>4</th>\n",
              "      <td>/cellphones/samsung-galaxy-s8/</td>\n",
              "      <td>5/11/2017</td>\n",
              "      <td>en</td>\n",
              "      <td>us</td>\n",
              "      <td>Verizon Wireless</td>\n",
              "      <td>verizonwireless.com</td>\n",
              "      <td>4</td>\n",
              "      <td>10</td>\n",
              "      <td>I've now found that i'm in a group of people t...</td>\n",
              "      <td>S Ate Mine</td>\n",
              "      <td>Samsung Galaxy S8</td>\n",
              "    </tr>\n",
              "  </tbody>\n",
              "</table>\n",
              "</div>"
            ],
            "text/plain": [
              "                        phone_url  ...                                            product\n",
              "0  /cellphones/samsung-galaxy-s8/  ...                                  Samsung Galaxy S8\n",
              "1  /cellphones/samsung-galaxy-s8/  ...                                  Samsung Galaxy S8\n",
              "2  /cellphones/samsung-galaxy-s8/  ...  Samsung Galaxy S8 (64GB) G950U 5.8\" 4G LTE Unl...\n",
              "3  /cellphones/samsung-galaxy-s8/  ...                      Samsung Galaxy S8 64GB (AT&T)\n",
              "4  /cellphones/samsung-galaxy-s8/  ...                                  Samsung Galaxy S8\n",
              "\n",
              "[5 rows x 11 columns]"
            ]
          },
          "metadata": {
            "tags": []
          },
          "execution_count": 6
        }
      ]
    },
    {
      "cell_type": "markdown",
      "metadata": {
        "id": "UcFAE2Jc4N2a"
      },
      "source": [
        "**Dataset exploration.**"
      ]
    },
    {
      "cell_type": "code",
      "metadata": {
        "colab": {
          "base_uri": "https://localhost:8080/"
        },
        "id": "PGQKCcDimraT",
        "outputId": "2d20dbf2-1a50-4d86-a1f6-68e0035109e8"
      },
      "source": [
        "# counting total NaN values in each column\n",
        "dataset.isna().sum()"
      ],
      "execution_count": 7,
      "outputs": [
        {
          "output_type": "execute_result",
          "data": {
            "text/plain": [
              "phone_url        0\n",
              "date             0\n",
              "lang             0\n",
              "country          0\n",
              "source           0\n",
              "domain           0\n",
              "score        63489\n",
              "score_max    63489\n",
              "extract      19361\n",
              "author       63202\n",
              "product          1\n",
              "dtype: int64"
            ]
          },
          "metadata": {
            "tags": []
          },
          "execution_count": 7
        }
      ]
    },
    {
      "cell_type": "code",
      "metadata": {
        "colab": {
          "base_uri": "https://localhost:8080/",
          "height": 619
        },
        "id": "1V4jD9-YsmLu",
        "outputId": "c75f20f2-a8f8-4d8d-d151-197f2e50443d"
      },
      "source": [
        "# this chart represents top 50 rated words from dataframe \n",
        "plt.figure(figsize=(18, 7))\n",
        "dataset['product'].value_counts()[:10].plot(kind='bar')\n",
        "plt.ylabel('Count of Rating')\n",
        "plt.title('Top 10 Rated Mobile')\n",
        "plt.show()"
      ],
      "execution_count": 8,
      "outputs": [
        {
          "output_type": "display_data",
          "data": {
            "image/png": "[encoded data removed]",
            "text/plain": [
              "<Figure size 1296x504 with 1 Axes>"
            ]
          },
          "metadata": {
            "tags": [],
            "needs_background": "light"
          }
        }
      ]
    },
    {
      "cell_type": "markdown",
      "metadata": {
        "id": "Oz6hvuwcx5w_"
      },
      "source": [
        "\n",
        "\n",
        "*   **Here I have extracted Important columns from dataset for further analysis**\n",
        "\n"
      ]
    },
    {
      "cell_type": "code",
      "metadata": {
        "id": "ROXZHzfoyD21"
      },
      "source": [
        "def extract_data(dataset):\n",
        "    x = pd.read_csv(dataset,engine='python')\n",
        "    x = x[x['lang'] == 'en']\n",
        "    x.reset_index(inplace=True)\n",
        "    return x[['score','extract','product']]\n",
        "dataset = extract_data('data.csv')"
      ],
      "execution_count": 9,
      "outputs": []
    },
    {
      "cell_type": "code",
      "metadata": {
        "id": "i9sgO8rUybWm"
      },
      "source": [
        "col_name = [\"Rating\", \"Review\", \"Mobilephone\"]\n",
        "dataset.columns = col_name"
      ],
      "execution_count": 10,
      "outputs": []
    },
    {
      "cell_type": "code",
      "metadata": {
        "id": "3IV-3B1LypmR",
        "colab": {
          "base_uri": "https://localhost:8080/",
          "height": 204
        },
        "outputId": "2f2892da-0ae2-4b18-b32a-fa6942d27acb"
      },
      "source": [
        "dataset.head()"
      ],
      "execution_count": 11,
      "outputs": [
        {
          "output_type": "execute_result",
          "data": {
            "text/html": [
              "<div>\n",
              "<style scoped>\n",
              "    .dataframe tbody tr th:only-of-type {\n",
              "        vertical-align: middle;\n",
              "    }\n",
              "\n",
              "    .dataframe tbody tr th {\n",
              "        vertical-align: top;\n",
              "    }\n",
              "\n",
              "    .dataframe thead th {\n",
              "        text-align: right;\n",
              "    }\n",
              "</style>\n",
              "<table border=\"1\" class=\"dataframe\">\n",
              "  <thead>\n",
              "    <tr style=\"text-align: right;\">\n",
              "      <th></th>\n",
              "      <th>Rating</th>\n",
              "      <th>Review</th>\n",
              "      <th>Mobilephone</th>\n",
              "    </tr>\n",
              "  </thead>\n",
              "  <tbody>\n",
              "    <tr>\n",
              "      <th>0</th>\n",
              "      <td>10</td>\n",
              "      <td>As a diehard Samsung fan who has had every Sam...</td>\n",
              "      <td>Samsung Galaxy S8</td>\n",
              "    </tr>\n",
              "    <tr>\n",
              "      <th>1</th>\n",
              "      <td>10</td>\n",
              "      <td>Love the phone. the phone is sleek and smooth ...</td>\n",
              "      <td>Samsung Galaxy S8</td>\n",
              "    </tr>\n",
              "    <tr>\n",
              "      <th>2</th>\n",
              "      <td>6</td>\n",
              "      <td>Adequate feel. Nice heft. Processor's still sl...</td>\n",
              "      <td>Samsung Galaxy S8 (64GB) G950U 5.8\" 4G LTE Unl...</td>\n",
              "    </tr>\n",
              "    <tr>\n",
              "      <th>3</th>\n",
              "      <td>9.2</td>\n",
              "      <td>Never disappointed. One of the reasons I've be...</td>\n",
              "      <td>Samsung Galaxy S8 64GB (AT&amp;T)</td>\n",
              "    </tr>\n",
              "    <tr>\n",
              "      <th>4</th>\n",
              "      <td>4</td>\n",
              "      <td>I've now found that i'm in a group of people t...</td>\n",
              "      <td>Samsung Galaxy S8</td>\n",
              "    </tr>\n",
              "  </tbody>\n",
              "</table>\n",
              "</div>"
            ],
            "text/plain": [
              "  Rating  ...                                        Mobilephone\n",
              "0     10  ...                                  Samsung Galaxy S8\n",
              "1     10  ...                                  Samsung Galaxy S8\n",
              "2      6  ...  Samsung Galaxy S8 (64GB) G950U 5.8\" 4G LTE Unl...\n",
              "3    9.2  ...                      Samsung Galaxy S8 64GB (AT&T)\n",
              "4      4  ...                                  Samsung Galaxy S8\n",
              "\n",
              "[5 rows x 3 columns]"
            ]
          },
          "metadata": {
            "tags": []
          },
          "execution_count": 11
        }
      ]
    },
    {
      "cell_type": "markdown",
      "metadata": {
        "id": "K0mkBUBJ4cmO"
      },
      "source": [
        "**Remove missing values from dataset**"
      ]
    },
    {
      "cell_type": "code",
      "metadata": {
        "colab": {
          "base_uri": "https://localhost:8080/",
          "height": 238
        },
        "id": "DMfizKv3t2Z1",
        "outputId": "73331ae4-1ad3-4c4b-c72d-4a6081e785a7"
      },
      "source": [
        "dataset = dataset[['Review','Rating']]\n",
        "dataset.dropna(inplace=True)\n",
        "print(\"Length of dataset after removing missing values: \",len(dataset))\n",
        "print('')\n",
        "dataset.head()"
      ],
      "execution_count": 12,
      "outputs": [
        {
          "output_type": "stream",
          "text": [
            "Length of dataset after removing missing values:  545424\n",
            "\n"
          ],
          "name": "stdout"
        },
        {
          "output_type": "execute_result",
          "data": {
            "text/html": [
              "<div>\n",
              "<style scoped>\n",
              "    .dataframe tbody tr th:only-of-type {\n",
              "        vertical-align: middle;\n",
              "    }\n",
              "\n",
              "    .dataframe tbody tr th {\n",
              "        vertical-align: top;\n",
              "    }\n",
              "\n",
              "    .dataframe thead th {\n",
              "        text-align: right;\n",
              "    }\n",
              "</style>\n",
              "<table border=\"1\" class=\"dataframe\">\n",
              "  <thead>\n",
              "    <tr style=\"text-align: right;\">\n",
              "      <th></th>\n",
              "      <th>Review</th>\n",
              "      <th>Rating</th>\n",
              "    </tr>\n",
              "  </thead>\n",
              "  <tbody>\n",
              "    <tr>\n",
              "      <th>0</th>\n",
              "      <td>As a diehard Samsung fan who has had every Sam...</td>\n",
              "      <td>10</td>\n",
              "    </tr>\n",
              "    <tr>\n",
              "      <th>1</th>\n",
              "      <td>Love the phone. the phone is sleek and smooth ...</td>\n",
              "      <td>10</td>\n",
              "    </tr>\n",
              "    <tr>\n",
              "      <th>2</th>\n",
              "      <td>Adequate feel. Nice heft. Processor's still sl...</td>\n",
              "      <td>6</td>\n",
              "    </tr>\n",
              "    <tr>\n",
              "      <th>3</th>\n",
              "      <td>Never disappointed. One of the reasons I've be...</td>\n",
              "      <td>9.2</td>\n",
              "    </tr>\n",
              "    <tr>\n",
              "      <th>4</th>\n",
              "      <td>I've now found that i'm in a group of people t...</td>\n",
              "      <td>4</td>\n",
              "    </tr>\n",
              "  </tbody>\n",
              "</table>\n",
              "</div>"
            ],
            "text/plain": [
              "                                              Review Rating\n",
              "0  As a diehard Samsung fan who has had every Sam...     10\n",
              "1  Love the phone. the phone is sleek and smooth ...     10\n",
              "2  Adequate feel. Nice heft. Processor's still sl...      6\n",
              "3  Never disappointed. One of the reasons I've be...    9.2\n",
              "4  I've now found that i'm in a group of people t...      4"
            ]
          },
          "metadata": {
            "tags": []
          },
          "execution_count": 12
        }
      ]
    },
    {
      "cell_type": "markdown",
      "metadata": {
        "id": "n8OLzTr54mXx"
      },
      "source": [
        "**Tokenization of Review column and Remove punctuation**"
      ]
    },
    {
      "cell_type": "code",
      "metadata": {
        "colab": {
          "base_uri": "https://localhost:8080/",
          "height": 204
        },
        "id": "-mXuoAhNuJwm",
        "outputId": "7dc1efcb-f24c-44cb-b4e0-659fdf920248"
      },
      "source": [
        "from nltk.tokenize import RegexpTokenizer\n",
        "tokenizer = RegexpTokenizer(r'\\w+')\n",
        "dataset['Review'] = dataset['Review'].apply(lambda x: tokenizer.tokenize(x.lower()))\n",
        "dataset.head()"
      ],
      "execution_count": 13,
      "outputs": [
        {
          "output_type": "execute_result",
          "data": {
            "text/html": [
              "<div>\n",
              "<style scoped>\n",
              "    .dataframe tbody tr th:only-of-type {\n",
              "        vertical-align: middle;\n",
              "    }\n",
              "\n",
              "    .dataframe tbody tr th {\n",
              "        vertical-align: top;\n",
              "    }\n",
              "\n",
              "    .dataframe thead th {\n",
              "        text-align: right;\n",
              "    }\n",
              "</style>\n",
              "<table border=\"1\" class=\"dataframe\">\n",
              "  <thead>\n",
              "    <tr style=\"text-align: right;\">\n",
              "      <th></th>\n",
              "      <th>Review</th>\n",
              "      <th>Rating</th>\n",
              "    </tr>\n",
              "  </thead>\n",
              "  <tbody>\n",
              "    <tr>\n",
              "      <th>0</th>\n",
              "      <td>[as, a, diehard, samsung, fan, who, has, had, ...</td>\n",
              "      <td>10</td>\n",
              "    </tr>\n",
              "    <tr>\n",
              "      <th>1</th>\n",
              "      <td>[love, the, phone, the, phone, is, sleek, and,...</td>\n",
              "      <td>10</td>\n",
              "    </tr>\n",
              "    <tr>\n",
              "      <th>2</th>\n",
              "      <td>[adequate, feel, nice, heft, processor, s, sti...</td>\n",
              "      <td>6</td>\n",
              "    </tr>\n",
              "    <tr>\n",
              "      <th>3</th>\n",
              "      <td>[never, disappointed, one, of, the, reasons, i...</td>\n",
              "      <td>9.2</td>\n",
              "    </tr>\n",
              "    <tr>\n",
              "      <th>4</th>\n",
              "      <td>[i, ve, now, found, that, i, m, in, a, group, ...</td>\n",
              "      <td>4</td>\n",
              "    </tr>\n",
              "  </tbody>\n",
              "</table>\n",
              "</div>"
            ],
            "text/plain": [
              "                                              Review Rating\n",
              "0  [as, a, diehard, samsung, fan, who, has, had, ...     10\n",
              "1  [love, the, phone, the, phone, is, sleek, and,...     10\n",
              "2  [adequate, feel, nice, heft, processor, s, sti...      6\n",
              "3  [never, disappointed, one, of, the, reasons, i...    9.2\n",
              "4  [i, ve, now, found, that, i, m, in, a, group, ...      4"
            ]
          },
          "metadata": {
            "tags": []
          },
          "execution_count": 13
        }
      ]
    },
    {
      "cell_type": "markdown",
      "metadata": {
        "id": "gQLqZhW25mEK"
      },
      "source": [
        "**Remove stop words from Review**"
      ]
    },
    {
      "cell_type": "code",
      "metadata": {
        "colab": {
          "base_uri": "https://localhost:8080/",
          "height": 204
        },
        "id": "JL7PrfdJuV4-",
        "outputId": "0ae84bb7-c260-4600-d33f-b44a13094d11"
      },
      "source": [
        "stops = set(stopwords.words(\"english\"))\n",
        "dataset['Review'] = dataset['Review'].apply(lambda x: [item for item in x if item not in stops])\n",
        "dataset.head()"
      ],
      "execution_count": 14,
      "outputs": [
        {
          "output_type": "execute_result",
          "data": {
            "text/html": [
              "<div>\n",
              "<style scoped>\n",
              "    .dataframe tbody tr th:only-of-type {\n",
              "        vertical-align: middle;\n",
              "    }\n",
              "\n",
              "    .dataframe tbody tr th {\n",
              "        vertical-align: top;\n",
              "    }\n",
              "\n",
              "    .dataframe thead th {\n",
              "        text-align: right;\n",
              "    }\n",
              "</style>\n",
              "<table border=\"1\" class=\"dataframe\">\n",
              "  <thead>\n",
              "    <tr style=\"text-align: right;\">\n",
              "      <th></th>\n",
              "      <th>Review</th>\n",
              "      <th>Rating</th>\n",
              "    </tr>\n",
              "  </thead>\n",
              "  <tbody>\n",
              "    <tr>\n",
              "      <th>0</th>\n",
              "      <td>[diehard, samsung, fan, every, samsung, phone,...</td>\n",
              "      <td>10</td>\n",
              "    </tr>\n",
              "    <tr>\n",
              "      <th>1</th>\n",
              "      <td>[love, phone, phone, sleek, smooth, beautiful,...</td>\n",
              "      <td>10</td>\n",
              "    </tr>\n",
              "    <tr>\n",
              "      <th>2</th>\n",
              "      <td>[adequate, feel, nice, heft, processor, still,...</td>\n",
              "      <td>6</td>\n",
              "    </tr>\n",
              "    <tr>\n",
              "      <th>3</th>\n",
              "      <td>[never, disappointed, one, reasons, long, sams...</td>\n",
              "      <td>9.2</td>\n",
              "    </tr>\n",
              "    <tr>\n",
              "      <th>4</th>\n",
              "      <td>[found, group, people, carried, phone, pocket,...</td>\n",
              "      <td>4</td>\n",
              "    </tr>\n",
              "  </tbody>\n",
              "</table>\n",
              "</div>"
            ],
            "text/plain": [
              "                                              Review Rating\n",
              "0  [diehard, samsung, fan, every, samsung, phone,...     10\n",
              "1  [love, phone, phone, sleek, smooth, beautiful,...     10\n",
              "2  [adequate, feel, nice, heft, processor, still,...      6\n",
              "3  [never, disappointed, one, reasons, long, sams...    9.2\n",
              "4  [found, group, people, carried, phone, pocket,...      4"
            ]
          },
          "metadata": {
            "tags": []
          },
          "execution_count": 14
        }
      ]
    },
    {
      "cell_type": "code",
      "metadata": {
        "id": "rRqaWrwtuhf1"
      },
      "source": [
        "#joining all tokens to proceed further for data modeling\n",
        "dataset['Review'] = dataset['Review'].apply(' '.join)"
      ],
      "execution_count": 15,
      "outputs": []
    },
    {
      "cell_type": "code",
      "metadata": {
        "colab": {
          "base_uri": "https://localhost:8080/",
          "height": 204
        },
        "id": "MFQSrj4OupFR",
        "outputId": "267e1aac-a40c-4d84-fc78-a3f70c8f6fe7"
      },
      "source": [
        "dataset.head()"
      ],
      "execution_count": 16,
      "outputs": [
        {
          "output_type": "execute_result",
          "data": {
            "text/html": [
              "<div>\n",
              "<style scoped>\n",
              "    .dataframe tbody tr th:only-of-type {\n",
              "        vertical-align: middle;\n",
              "    }\n",
              "\n",
              "    .dataframe tbody tr th {\n",
              "        vertical-align: top;\n",
              "    }\n",
              "\n",
              "    .dataframe thead th {\n",
              "        text-align: right;\n",
              "    }\n",
              "</style>\n",
              "<table border=\"1\" class=\"dataframe\">\n",
              "  <thead>\n",
              "    <tr style=\"text-align: right;\">\n",
              "      <th></th>\n",
              "      <th>Review</th>\n",
              "      <th>Rating</th>\n",
              "    </tr>\n",
              "  </thead>\n",
              "  <tbody>\n",
              "    <tr>\n",
              "      <th>0</th>\n",
              "      <td>diehard samsung fan every samsung phone since ...</td>\n",
              "      <td>10</td>\n",
              "    </tr>\n",
              "    <tr>\n",
              "      <th>1</th>\n",
              "      <td>love phone phone sleek smooth beautiful highly...</td>\n",
              "      <td>10</td>\n",
              "    </tr>\n",
              "    <tr>\n",
              "      <th>2</th>\n",
              "      <td>adequate feel nice heft processor still sluggi...</td>\n",
              "      <td>6</td>\n",
              "    </tr>\n",
              "    <tr>\n",
              "      <th>3</th>\n",
              "      <td>never disappointed one reasons long samsung pr...</td>\n",
              "      <td>9.2</td>\n",
              "    </tr>\n",
              "    <tr>\n",
              "      <th>4</th>\n",
              "      <td>found group people carried phone pocket withou...</td>\n",
              "      <td>4</td>\n",
              "    </tr>\n",
              "  </tbody>\n",
              "</table>\n",
              "</div>"
            ],
            "text/plain": [
              "                                              Review Rating\n",
              "0  diehard samsung fan every samsung phone since ...     10\n",
              "1  love phone phone sleek smooth beautiful highly...     10\n",
              "2  adequate feel nice heft processor still sluggi...      6\n",
              "3  never disappointed one reasons long samsung pr...    9.2\n",
              "4  found group people carried phone pocket withou...      4"
            ]
          },
          "metadata": {
            "tags": []
          },
          "execution_count": 16
        }
      ]
    },
    {
      "cell_type": "markdown",
      "metadata": {
        "id": "g9o-5zbp5zrG"
      },
      "source": [
        "**show unique values in Rating**"
      ]
    },
    {
      "cell_type": "code",
      "metadata": {
        "colab": {
          "base_uri": "https://localhost:8080/"
        },
        "id": "wnlUkTF-vLlW",
        "outputId": "e5c36078-fb69-465a-d802-63b37dccec61"
      },
      "source": [
        "dataset.dropna(inplace=True)\n",
        "np.unique(dataset.Rating)"
      ],
      "execution_count": 17,
      "outputs": [
        {
          "output_type": "execute_result",
          "data": {
            "text/plain": [
              "array(['1', '1.2', '1.3', '1.4', '1.6', '1.7', '1.8', '10', '2', '2.2',\n",
              "       '2.3', '2.4', '2.6', '2.7', '2.8', '3', '3.2', '3.3', '3.4', '3.6',\n",
              "       '3.7', '3.8', '4', '4.2', '4.3', '4.4', '4.6', '4.7', '4.8', '5',\n",
              "       '5.2', '5.3', '5.4', '5.6', '5.7', '5.8', '5.9', '6', '6.2', '6.3',\n",
              "       '6.4', '6.6', '6.7', '6.8', '7', '7.1', '7.2', '7.3', '7.4', '7.5',\n",
              "       '7.6', '7.7', '7.8', '7.9', '8', '8.1', '8.2', '8.3', '8.4', '8.5',\n",
              "       '8.6', '8.7', '8.8', '8.9', '9', '9.1', '9.2', '9.3', '9.4', '9.5',\n",
              "       '9.6', '9.7', '9.8'], dtype=object)"
            ]
          },
          "metadata": {
            "tags": []
          },
          "execution_count": 17
        }
      ]
    },
    {
      "cell_type": "markdown",
      "metadata": {
        "id": "BAGix7Cz56wH"
      },
      "source": [
        "*   Converted float rating value in to integer value for convenience"
      ]
    },
    {
      "cell_type": "code",
      "metadata": {
        "id": "dT0kZVH-vQ8x"
      },
      "source": [
        "def apply_trans(p):\n",
        "    if p >= 1. and p < 2.:\n",
        "        return 1\n",
        "    elif p >= 2. and p < 3.:\n",
        "        return 2\n",
        "    elif p >= 3. and p < 4.:\n",
        "        return 3\n",
        "    elif p >= 4. and p < 5.:\n",
        "        return 4\n",
        "    elif p >= 5. and p < 6.:\n",
        "        return 5\n",
        "    elif p >= 6. and p < 7.:\n",
        "        return 6\n",
        "    elif p >= 7. and p < 8.:\n",
        "        return 7\n",
        "    elif p >= 8. and p < 9.:\n",
        "        return 8\n",
        "    elif p >= 9. and p < 10.:\n",
        "        return 9\n",
        "    else:\n",
        "        return 10\n",
        "        \n",
        "dataset['Rating'] = dataset['Rating'].apply(lambda x :apply_trans(float(x)))\n",
        "dataset.reset_index(inplace=True)"
      ],
      "execution_count": 18,
      "outputs": []
    },
    {
      "cell_type": "markdown",
      "metadata": {
        "id": "hxAWr7-S6ObR"
      },
      "source": [
        "**Visualize Data**"
      ]
    },
    {
      "cell_type": "code",
      "metadata": {
        "colab": {
          "base_uri": "https://localhost:8080/",
          "height": 404
        },
        "id": "Hbp6MUtruvFU",
        "outputId": "00db7380-b9ef-4f02-f626-4aebfc910041"
      },
      "source": [
        "fig = plt.figure(figsize=(9,6))\n",
        "n, bins, patches = plt.hist(dataset.Rating, bins=40, facecolor='red',alpha = 1)\n",
        "plt.xlabel('Rating')\n",
        "plt.ylabel('Counts')\n",
        "plt.title('Occurrence of each rating in preprocessed data')\n",
        "fig.patch.set_facecolor('white')\n",
        "plt.show()\n",
        "# width of bars are defined using value of bin"
      ],
      "execution_count": 19,
      "outputs": [
        {
          "output_type": "display_data",
          "data": {
            "image/png": "[encoded data removed]",
            "text/plain": [
              "<Figure size 648x432 with 1 Axes>"
            ]
          },
          "metadata": {
            "tags": []
          }
        }
      ]
    },
    {
      "cell_type": "markdown",
      "metadata": {
        "id": "esP1-TvH2Ors"
      },
      "source": [
        "\n",
        "\n",
        "*   **Below function gives the exacy values for Ratings.**\n",
        "\n"
      ]
    },
    {
      "cell_type": "code",
      "metadata": {
        "colab": {
          "base_uri": "https://localhost:8080/"
        },
        "id": "ZH4WYTa9u6Wy",
        "outputId": "9d1268c7-e209-4861-c7e8-dbd147b1d905"
      },
      "source": [
        "#average value of all the ratings \n",
        "print(\"Average rating: \",dataset['Rating'].mean())\n",
        "#median value of ratings values\n",
        "print(\"Median value: \",dataset['Rating'].median())"
      ],
      "execution_count": 20,
      "outputs": [
        {
          "output_type": "stream",
          "text": [
            "Average rating:  7.665067910469653\n",
            "Median value:  8.0\n"
          ],
          "name": "stdout"
        }
      ]
    },
    {
      "cell_type": "markdown",
      "metadata": {
        "id": "Zf59ok7b6jrN"
      },
      "source": [
        "**Model Creation**"
      ]
    },
    {
      "cell_type": "code",
      "metadata": {
        "id": "7naNOEGaxiWD"
      },
      "source": [
        "new_dataset = dataset"
      ],
      "execution_count": 21,
      "outputs": []
    },
    {
      "cell_type": "code",
      "metadata": {
        "colab": {
          "base_uri": "https://localhost:8080/"
        },
        "id": "Go3hUJ4GyvOc",
        "outputId": "4efd065c-a360-4c48-8cda-e6d477a6b90a"
      },
      "source": [
        "#occurance of each rating in the column\n",
        "new_dataset['Rating'].value_counts()"
      ],
      "execution_count": 22,
      "outputs": [
        {
          "output_type": "execute_result",
          "data": {
            "text/plain": [
              "10    253010\n",
              "8     107438\n",
              "2      75124\n",
              "6      48205\n",
              "4      32199\n",
              "9      18852\n",
              "7       4846\n",
              "5       2663\n",
              "1       1666\n",
              "3       1421\n",
              "Name: Rating, dtype: int64"
            ]
          },
          "metadata": {
            "tags": []
          },
          "execution_count": 22
        }
      ]
    },
    {
      "cell_type": "markdown",
      "metadata": {
        "id": "TWyk3t6K64IX"
      },
      "source": [
        "**Split dataset randomly**\n",
        "\n",
        "\n",
        "*   Train\n",
        "*   Test\n",
        "Here , I have divided dataset in to 80:20 ratio as train and test data.\n"
      ]
    },
    {
      "cell_type": "code",
      "metadata": {
        "id": "iQ_6nRr1yzMq"
      },
      "source": [
        "X_train, X_test, y_train, y_test = train_test_split(new_dataset['Review'], new_dataset['Rating'], test_size=0.2) # 80% training and 20% test"
      ],
      "execution_count": 23,
      "outputs": []
    },
    {
      "cell_type": "markdown",
      "metadata": {
        "id": "03ErB5nM7RMF"
      },
      "source": [
        "\n",
        "\n",
        "*   **Vectorizing our data**\n",
        "*   **Convert a collection of raw documents to a matrix of TF-IDF features**\n",
        "\n"
      ]
    },
    {
      "cell_type": "markdown",
      "metadata": {
        "id": "Uqgsn-O47xie"
      },
      "source": [
        "\n",
        "**What is TF-IDF?**\n",
        "*   TF-Term frequency.\n",
        "*   IDF--Inverse document frequency.\n",
        "*   TF-IDF is a weight often used in information retrieval and text mining.\n",
        "*   TfidfVectorizer:\n",
        "*   Transforms text into a sparse matrix of n-gram counts.\n",
        "*   TfidfVectorizer and CountVectorizer both are same thing.\n",
        "*   TfidfTransformer:\n",
        "*   Performs the TF-IDF transformation from a provided matrix of counts.\n",
        "\n",
        "\n",
        "\n",
        "\n",
        "\n",
        "\n",
        "\n"
      ]
    },
    {
      "cell_type": "code",
      "metadata": {
        "id": "P2bvOKNXzKpL"
      },
      "source": [
        "vectorizer = TfidfVectorizer()\n",
        "transformer = TfidfTransformer()\n",
        "\n",
        "X_train = vectorizer.fit_transform(X_train)\n",
        "X_test = vectorizer.transform(X_test)\n",
        "\n",
        "X_train_counts = transformer.fit_transform(X_train)\n",
        "X_test_counts = transformer.fit_transform(X_test)\n"
      ],
      "execution_count": 24,
      "outputs": []
    },
    {
      "cell_type": "markdown",
      "metadata": {
        "id": "5xzTIZu08mkh"
      },
      "source": [
        "**Classification Model**\n",
        "\n",
        "1.   Linear Support vector machine\n",
        "2.   Rigid classifier.\n",
        "\n"
      ]
    },
    {
      "cell_type": "markdown",
      "metadata": {
        "id": "T8MGDziRJned"
      },
      "source": [
        "**Linear Support vector machine**"
      ]
    },
    {
      "cell_type": "code",
      "metadata": {
        "id": "qFO_ScXHGq99"
      },
      "source": [
        "model_linear_SVC = LinearSVC().fit(X_train,y_train.astype('int'))\n",
        "y_predicted_linear_SVC = model_linear_SVC.predict(X_test)\n",
        "accuracy = accuracy_score(y_test.astype('int'),y_predicted_linear_SVC) * float(100)\n",
        "accuracy_linear_svc = str(accuracy)\n",
        "print('Testing Accuracy for Linear Support vector machine is: '+accuracy_linear_svc+' %')"
      ],
      "execution_count": null,
      "outputs": []
    },
    {
      "cell_type": "code",
      "metadata": {
        "id": "NQ9R2dQLHLrg"
      },
      "source": [
        "print(\"Confusion matrix for Linear Support vector machine:\\n\")\n",
        "fig= plt.figure(figsize=(8,6))\n",
        "ax = fig.add_axes([1,1,1,1])\n",
        "matrix = confusion_matrix(y_test.astype('int'), y_predicted_linear_SVC)\n",
        "sb.heatmap(matrix/np.sum(matrix), square=True, annot=True, cmap=\"Reds\")\n",
        "ax.set_xlabel('Actual rating')\n",
        "ax.set_ylabel('Predicted rating')"
      ],
      "execution_count": null,
      "outputs": []
    },
    {
      "cell_type": "markdown",
      "metadata": {
        "id": "OLPpttqH-H8F"
      },
      "source": [
        "**Rigid Classifier**"
      ]
    },
    {
      "cell_type": "code",
      "metadata": {
        "id": "nLLJaHuGzZbT"
      },
      "source": [
        "model_ridge_class = RidgeClassifier().fit(X_train_counts, y_train.astype('int'))\n",
        "y_predicted = model_ridge_class.predict(X_test_counts)\n",
        "y_predicted_ridge_class = np.round(y_predicted)\n",
        "accuracy = accuracy_score(y_test,y_predicted_ridge_class) * float(100)\n",
        "ridge_class_accuracy = str(accuracy)\n",
        "print('Testing Accuracy on ridge classifier model is: '+ridge_class_accuracy+' %')"
      ],
      "execution_count": null,
      "outputs": []
    },
    {
      "cell_type": "code",
      "metadata": {
        "id": "oj-8Pg2uzkj1"
      },
      "source": [
        "print(\"Confusion matrix for Ridge Classifier:\\n\")\n",
        "fig= plt.figure(figsize=(10,6))\n",
        "ax = fig.add_axes([1,1,1,1])\n",
        "matrix = confusion_matrix(y_test.astype('int'), y_predicted_ridge_class)\n",
        "sb.heatmap(matrix/np.sum(matrix), square=True, annot=True, cmap=\"Blues\")\n",
        "ax.set_xlabel('Actual rating')\n",
        "ax.set_ylabel('Predicted rating')"
      ],
      "execution_count": null,
      "outputs": []
    },
    {
      "cell_type": "code",
      "metadata": {
        "id": "N_jUH4DI_JzS"
      },
      "source": [
        "labels = ['0.0','1.0','2.0','3.0','4.0','5.0','6.0','7.0','8.0','9.0']\n",
        "p = classification_report(y_test.astype('int'), y_predicted_linear_SVC, target_names=labels,zero_division=1)\n",
        "\n",
        "print(\"Report for Linear Support vector machine:\\n \")\n",
        "print(p)\n",
        "print('')\n"
      ],
      "execution_count": null,
      "outputs": []
    },
    {
      "cell_type": "code",
      "metadata": {
        "id": "u9yYEkdAH_qZ"
      },
      "source": [
        "p = classification_report(y_test.astype('int'), y_predicted_ridge_class, target_names=labels,zero_division=1,)\n",
        "print(\"Report for Ridge regression:\\n \")\n",
        "print(p)"
      ],
      "execution_count": null,
      "outputs": []
    },
    {
      "cell_type": "markdown",
      "metadata": {
        "id": "PQFLwf7EIC0h"
      },
      "source": [
        "Now, I reduced my dataset size to try more classifier with best accuracy and performance. "
      ]
    },
    {
      "cell_type": "code",
      "metadata": {
        "id": "EdSMKekv0K0Y"
      },
      "source": [
        "samall_dataset = new_dataset.sample(n=20000)\n",
        "samall_dataset['Rating'] =np.round(samall_dataset['Rating'])\n",
        "X_train_small, X_test_small, y_train_small, y_test_small = train_test_split(samall_dataset['Review'], samall_dataset['Rating'], test_size=0.2) "
      ],
      "execution_count": null,
      "outputs": []
    },
    {
      "cell_type": "code",
      "metadata": {
        "id": "4qYe-MTP0VpR"
      },
      "source": [
        "fig = plt.figure(figsize=(9,6))\n",
        "n, bins, patches = plt.hist(samall_dataset.Rating, bins=40, facecolor='blue',alpha = 1)\n",
        "plt.xlabel('Rating')\n",
        "plt.ylabel('Counts')\n",
        "plt.title('Occurrence of each rating in this small data')\n",
        "fig.patch.set_facecolor('white')\n",
        "plt.show()\n"
      ],
      "execution_count": null,
      "outputs": []
    },
    {
      "cell_type": "code",
      "metadata": {
        "id": "mK3Aol5u2haC"
      },
      "source": [
        "#vectorizing our data\n",
        "vect = TfidfVectorizer()\n",
        "trans = TfidfTransformer()\n",
        "\n",
        "X_train_small = vect.fit_transform(X_train_small)\n",
        "X_test_small = vect.transform(X_test_small)\n",
        "\n",
        "X_train_small = trans.fit_transform(X_train_small)\n",
        "X_test_small = trans.fit_transform(X_test_small)\n",
        "model_SVM = Pipeline([\n",
        "    ('Tfidf_vectorizer', TfidfVectorizer()), \n",
        "    ('Tfidf_transformer',  TfidfTransformer()), \n",
        "    ('classifier', SVC(kernel=\"linear\"))])  #this kernel=linear argument states that decision boundary to separate data is straight line"
      ],
      "execution_count": null,
      "outputs": []
    },
    {
      "cell_type": "code",
      "metadata": {
        "id": "Fhx0ExC0PH-V"
      },
      "source": [
        "model_linear_SVC = LinearSVC().fit(X_train_small,y_train_small.astype('int'))\n",
        "y_predicted_linear_SVC = model_linear_SVC.predict(X_test_small)\n",
        "accuracy = accuracy_score(y_test_small.astype('int'),y_predicted_linear_SVC) * float(100)\n",
        "accuracy_linear_svc = str(accuracy)\n",
        "print('Testing Accuracy is: '+accuracy_linear_svc+' %')"
      ],
      "execution_count": null,
      "outputs": []
    },
    {
      "cell_type": "code",
      "metadata": {
        "id": "jaGSKI8TPI8-"
      },
      "source": [
        "print(\"Confusion matrix for Linear Support vector machine:\\n\")\n",
        "fig= plt.figure(figsize=(8,6))\n",
        "ax = fig.add_axes([1,1,1,1])\n",
        "matrix = confusion_matrix(y_test_small.astype('int'), y_predicted_linear_SVC)\n",
        "sb.heatmap(matrix/np.sum(matrix), square=True, annot=True, cmap=\"Reds\")\n",
        "ax.set_xlabel('Actual rating')\n",
        "ax.set_ylabel('Predicted rating')"
      ],
      "execution_count": null,
      "outputs": []
    },
    {
      "cell_type": "code",
      "metadata": {
        "id": "UWHF_VwU2mht"
      },
      "source": [
        "model_Logistic_Regression = LogisticRegression(max_iter=20000).fit(X_train_small,y_train_small.astype('int'))\n",
        "y_predicted_log_reg = model_Logistic_Regression.predict(X_test_small)\n",
        "accuracy = accuracy_score(y_test_small.astype('int'),y_predicted_log_reg) * float(100)\n",
        "accuracy_log_reg = str(accuracy)\n",
        "print('Testing Accuracy  for logistic regression is: '+accuracy_log_reg+' %')"
      ],
      "execution_count": null,
      "outputs": []
    },
    {
      "cell_type": "code",
      "metadata": {
        "id": "Hq35s84L2rR7"
      },
      "source": [
        "print(\"Confusion matrix for Logistic regression:\\n\")\n",
        "fig= plt.figure(figsize=(8,6))\n",
        "ax = fig.add_axes([1,1,1,1])\n",
        "matrix = confusion_matrix(y_test_small.astype('int'), y_predicted_log_reg)\n",
        "sb.heatmap(matrix/np.sum(matrix), square=True, annot=True, cmap=\"BuPu\")\n",
        "ax.set_xlabel('Actual rating')\n",
        "ax.set_ylabel('Predicted rating')"
      ],
      "execution_count": null,
      "outputs": []
    },
    {
      "cell_type": "code",
      "metadata": {
        "id": "73yCt_NN27sC"
      },
      "source": [
        "model_kNN = KNeighborsClassifier(n_neighbors=10).fit(X_train_small,y_train_small.astype('int'))\n",
        "y_predicted_knn = model_kNN.predict(X_test_small)\n",
        "accuracy = accuracy_score(y_test_small.astype('int'),y_predicted_knn) * float(100)\n",
        "accuracy_knn = str(accuracy)\n",
        "print('Testing Accuracy for KNN is: '+accuracy_knn+' %')"
      ],
      "execution_count": null,
      "outputs": []
    },
    {
      "cell_type": "code",
      "metadata": {
        "id": "NnmLOo6w3Qvk"
      },
      "source": [
        "print(\"Confusion matrix for kNN:\\n\")\n",
        "matrix = confusion_matrix(y_test_small.astype('int'), y_predicted_knn)\n",
        "fig= plt.figure(figsize=(8,6))\n",
        "ax = fig.add_axes([1,1,1,1])\n",
        "sb.heatmap(matrix/np.sum(matrix), square=True, annot=True, cmap=\"RdPu\")\n",
        "ax.set_xlabel('Actual rating')\n",
        "ax.set_ylabel('Predicted rating')"
      ],
      "execution_count": null,
      "outputs": []
    },
    {
      "cell_type": "code",
      "metadata": {
        "id": "wxCmSDR33SnQ"
      },
      "source": [
        "from sklearn.ensemble import VotingClassifier\n",
        "Ensemble = VotingClassifier(estimators=[('Linear SVC',model_linear_SVC),('SVC',model_SVC),('knn',model_kNN)],voting='soft',weights=[2,1,3])\n",
        "model_ensemble = Ensemble.fit(X_train_small,y_train_small.astype('int'))\n",
        "ensemble_predicted = model_ensemble.predict(X_test_small)\n",
        "accuracy_ensemble = accuracy_score(ensemble_predicted,y_test_small.astype('int'))* float(100)\n",
        "accuracy_ensemble = str(accuracy_ensemble)\n",
        "print('Testing Accuracy after Ensembling is: '+accuracy_ensemble+' %')"
      ],
      "execution_count": null,
      "outputs": []
    },
    {
      "cell_type": "code",
      "metadata": {
        "id": "8BaaDitU3U-i"
      },
      "source": [
        "print(\"Confusion matrix for Ensemble methos for given estimators:\\n\")\n",
        "matrix = confusion_matrix(y_test_small.astype('int'), ensemble_predicted)\n",
        "fig= plt.figure(figsize=(8,6))\n",
        "ax = fig.add_axes([1,1,1,1])\n",
        "sb.heatmap(matrix/np.sum(matrix), square=True, annot=True, cmap=\"Purples\")\n",
        "ax.set_xlabel('Actual rating')\n",
        "ax.set_ylabel('Predicted rating')"
      ],
      "execution_count": null,
      "outputs": []
    }
  ]
}