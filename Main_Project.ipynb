{
  "nbformat": 4,
  "nbformat_minor": 0,
  "metadata": {
    "colab": {
      "name": "Main_Project.ipynb",
      "provenance": [],
      "authorship_tag": "ABX9TyPhLMwR1kNjJ0r1iGWKD7vt",
      "include_colab_link": true
    },
    "kernelspec": {
      "name": "python3",
      "display_name": "Python 3"
    },
    "language_info": {
      "name": "python"
    }
  },
  "cells": [
    {
      "cell_type": "markdown",
      "metadata": {
        "id": "view-in-github",
        "colab_type": "text"
      },
      "source": [
        "<a href=\"https://colab.research.google.com/github/vishwanaik15/DataMining_Project/blob/main/Main_Project.ipynb\" target=\"_parent\"><img src=\"https://colab.research.google.com/assets/colab-badge.svg\" alt=\"Open In Colab\"/></a>"
      ]
    },
    {
      "cell_type": "markdown",
      "metadata": {
        "id": "eWT-_h603ZK5"
      },
      "source": [
        "**Data Mining Term Project**"
      ]
    },
    {
      "cell_type": "markdown",
      "metadata": {
        "id": "WHMpckW08QsH"
      },
      "source": [
        "Name: Vishwa Chetankumar Naik<br>\n",
        "UTA ID: 1001871311"
      ]
    },
    {
      "cell_type": "markdown",
      "metadata": {
        "id": "F1UPkuCx3kp0"
      },
      "source": [
        "**Import required dependencies**"
      ]
    },
    {
      "cell_type": "code",
      "metadata": {
        "id": "8dddF75JmUrr"
      },
      "source": [
        "import os\n",
        "import sys\n",
        "import re\n",
        "import numpy as np\n",
        "import seaborn as sb\n",
        "import pandas as pd\n",
        "import matplotlib.pyplot as plt\n",
        "from matplotlib.ticker import FuncFormatter\n",
        "from sklearn.model_selection import train_test_split\n",
        "from sklearn import feature_extraction, linear_model, model_selection,preprocessing\n",
        "from sklearn.pipeline import Pipeline\n",
        "from sklearn.feature_extraction.text import TfidfVectorizer, CountVectorizer, TfidfTransformer\n",
        "from sklearn.metrics import confusion_matrix,f1_score,recall_score,precision_score,classification_report\n",
        "from sklearn.feature_selection import chi2\n",
        "from sklearn.naive_bayes import MultinomialNB\n",
        "from sklearn.linear_model import Ridge,RidgeClassifier\n",
        "from sklearn.svm import LinearSVC\n",
        "from sklearn.metrics import accuracy_score\n",
        "import time\n",
        "from time import sleep"
      ],
      "execution_count": 128,
      "outputs": []
    },
    {
      "cell_type": "code",
      "metadata": {
        "id": "OCvPA6RnFuy3",
        "colab": {
          "base_uri": "https://localhost:8080/"
        },
        "outputId": "f2eaa886-ff5a-48fc-ddb1-a0eeec1bd3ec"
      },
      "source": [
        "import nltk\n",
        "from nltk.corpus import stopwords\n",
        "from nltk import word_tokenize\n",
        "nltk.download('punkt')\n",
        "nltk.download(\"stopwords\")"
      ],
      "execution_count": null,
      "outputs": [
        {
          "output_type": "stream",
          "text": [
            "[nltk_data] Downloading package punkt to /root/nltk_data...\n",
            "[nltk_data]   Package punkt is already up-to-date!\n",
            "[nltk_data] Downloading package stopwords to /root/nltk_data...\n",
            "[nltk_data]   Package stopwords is already up-to-date!\n"
          ],
          "name": "stdout"
        },
        {
          "output_type": "execute_result",
          "data": {
            "text/plain": [
              "True"
            ]
          },
          "metadata": {
            "tags": []
          },
          "execution_count": 92
        }
      ]
    },
    {
      "cell_type": "markdown",
      "metadata": {
        "id": "n232bEup3zU8"
      },
      "source": [
        "**Mount google drive.**"
      ]
    },
    {
      "cell_type": "code",
      "metadata": {
        "colab": {
          "base_uri": "https://localhost:8080/"
        },
        "id": "0tkkt5DVmdUT",
        "outputId": "2d1c0d32-4775-4c89-bebf-045bed90f4e3"
      },
      "source": [
        "from google.colab import drive\n",
        "drive.mount('/content/gdrive')"
      ],
      "execution_count": null,
      "outputs": [
        {
          "output_type": "stream",
          "text": [
            "Drive already mounted at /content/gdrive; to attempt to forcibly remount, call drive.mount(\"/content/gdrive\", force_remount=True).\n"
          ],
          "name": "stdout"
        }
      ]
    },
    {
      "cell_type": "code",
      "metadata": {
        "id": "EJgVXrm0mhFW"
      },
      "source": [
        "os.chdir('/content/gdrive/My Drive/Data Mining/')"
      ],
      "execution_count": null,
      "outputs": []
    },
    {
      "cell_type": "markdown",
      "metadata": {
        "id": "xHw4kxAz4GD-"
      },
      "source": [
        "**Data acquisition from google drive**"
      ]
    },
    {
      "cell_type": "code",
      "metadata": {
        "colab": {
          "base_uri": "https://localhost:8080/",
          "height": 306
        },
        "id": "6w_57YRlmogZ",
        "outputId": "bc9a4743-26cc-41a1-8899-641f80aa403a"
      },
      "source": [
        "dataset =  pd.read_csv(\"data.csv\",encoding='latin1',low_memory=False)\n",
        "print(\"Length of review data: \",len(dataset))\n",
        "dataset.head()"
      ],
      "execution_count": null,
      "outputs": [
        {
          "output_type": "stream",
          "text": [
            "Length of review data:  1415138\n"
          ],
          "name": "stdout"
        },
        {
          "output_type": "execute_result",
          "data": {
            "text/html": [
              "<div>\n",
              "<style scoped>\n",
              "    .dataframe tbody tr th:only-of-type {\n",
              "        vertical-align: middle;\n",
              "    }\n",
              "\n",
              "    .dataframe tbody tr th {\n",
              "        vertical-align: top;\n",
              "    }\n",
              "\n",
              "    .dataframe thead th {\n",
              "        text-align: right;\n",
              "    }\n",
              "</style>\n",
              "<table border=\"1\" class=\"dataframe\">\n",
              "  <thead>\n",
              "    <tr style=\"text-align: right;\">\n",
              "      <th></th>\n",
              "      <th>phone_url</th>\n",
              "      <th>date</th>\n",
              "      <th>lang</th>\n",
              "      <th>country</th>\n",
              "      <th>source</th>\n",
              "      <th>domain</th>\n",
              "      <th>score</th>\n",
              "      <th>score_max</th>\n",
              "      <th>extract</th>\n",
              "      <th>author</th>\n",
              "      <th>product</th>\n",
              "    </tr>\n",
              "  </thead>\n",
              "  <tbody>\n",
              "    <tr>\n",
              "      <th>0</th>\n",
              "      <td>/cellphones/samsung-galaxy-s8/</td>\n",
              "      <td>5/2/2017</td>\n",
              "      <td>en</td>\n",
              "      <td>us</td>\n",
              "      <td>Verizon Wireless</td>\n",
              "      <td>verizonwireless.com</td>\n",
              "      <td>10</td>\n",
              "      <td>10</td>\n",
              "      <td>As a diehard Samsung fan who has had every Sam...</td>\n",
              "      <td>CarolAnn35</td>\n",
              "      <td>Samsung Galaxy S8</td>\n",
              "    </tr>\n",
              "    <tr>\n",
              "      <th>1</th>\n",
              "      <td>/cellphones/samsung-galaxy-s8/</td>\n",
              "      <td>4/28/2017</td>\n",
              "      <td>en</td>\n",
              "      <td>us</td>\n",
              "      <td>Phone Arena</td>\n",
              "      <td>phonearena.com</td>\n",
              "      <td>10</td>\n",
              "      <td>10</td>\n",
              "      <td>Love the phone. the phone is sleek and smooth ...</td>\n",
              "      <td>james0923</td>\n",
              "      <td>Samsung Galaxy S8</td>\n",
              "    </tr>\n",
              "    <tr>\n",
              "      <th>2</th>\n",
              "      <td>/cellphones/samsung-galaxy-s8/</td>\n",
              "      <td>5/4/2017</td>\n",
              "      <td>en</td>\n",
              "      <td>us</td>\n",
              "      <td>Amazon</td>\n",
              "      <td>amazon.com</td>\n",
              "      <td>6</td>\n",
              "      <td>10</td>\n",
              "      <td>Adequate feel. Nice heft. Processor's still sl...</td>\n",
              "      <td>R. Craig</td>\n",
              "      <td>Samsung Galaxy S8 (64GB) G950U 5.8\" 4G LTE Unl...</td>\n",
              "    </tr>\n",
              "    <tr>\n",
              "      <th>3</th>\n",
              "      <td>/cellphones/samsung-galaxy-s8/</td>\n",
              "      <td>5/2/2017</td>\n",
              "      <td>en</td>\n",
              "      <td>us</td>\n",
              "      <td>Samsung</td>\n",
              "      <td>samsung.com</td>\n",
              "      <td>9.2</td>\n",
              "      <td>10</td>\n",
              "      <td>Never disappointed. One of the reasons I've be...</td>\n",
              "      <td>Buster2020</td>\n",
              "      <td>Samsung Galaxy S8 64GB (AT&amp;T)</td>\n",
              "    </tr>\n",
              "    <tr>\n",
              "      <th>4</th>\n",
              "      <td>/cellphones/samsung-galaxy-s8/</td>\n",
              "      <td>5/11/2017</td>\n",
              "      <td>en</td>\n",
              "      <td>us</td>\n",
              "      <td>Verizon Wireless</td>\n",
              "      <td>verizonwireless.com</td>\n",
              "      <td>4</td>\n",
              "      <td>10</td>\n",
              "      <td>I've now found that i'm in a group of people t...</td>\n",
              "      <td>S Ate Mine</td>\n",
              "      <td>Samsung Galaxy S8</td>\n",
              "    </tr>\n",
              "  </tbody>\n",
              "</table>\n",
              "</div>"
            ],
            "text/plain": [
              "                        phone_url  ...                                            product\n",
              "0  /cellphones/samsung-galaxy-s8/  ...                                  Samsung Galaxy S8\n",
              "1  /cellphones/samsung-galaxy-s8/  ...                                  Samsung Galaxy S8\n",
              "2  /cellphones/samsung-galaxy-s8/  ...  Samsung Galaxy S8 (64GB) G950U 5.8\" 4G LTE Unl...\n",
              "3  /cellphones/samsung-galaxy-s8/  ...                      Samsung Galaxy S8 64GB (AT&T)\n",
              "4  /cellphones/samsung-galaxy-s8/  ...                                  Samsung Galaxy S8\n",
              "\n",
              "[5 rows x 11 columns]"
            ]
          },
          "metadata": {
            "tags": []
          },
          "execution_count": 95
        }
      ]
    },
    {
      "cell_type": "markdown",
      "metadata": {
        "id": "UcFAE2Jc4N2a"
      },
      "source": [
        "**Dataset exploration.**"
      ]
    },
    {
      "cell_type": "code",
      "metadata": {
        "colab": {
          "base_uri": "https://localhost:8080/"
        },
        "id": "PGQKCcDimraT",
        "outputId": "5ac5cc53-acd5-4e90-fffa-ceb35f245116"
      },
      "source": [
        "# counting total NaN values in each column\n",
        "dataset.isna().sum()"
      ],
      "execution_count": null,
      "outputs": [
        {
          "output_type": "execute_result",
          "data": {
            "text/plain": [
              "phone_url        0\n",
              "date             0\n",
              "lang             0\n",
              "country          0\n",
              "source           0\n",
              "domain           0\n",
              "score        63489\n",
              "score_max    63489\n",
              "extract      19361\n",
              "author       63202\n",
              "product          1\n",
              "dtype: int64"
            ]
          },
          "metadata": {
            "tags": []
          },
          "execution_count": 96
        }
      ]
    },
    {
      "cell_type": "code",
      "metadata": {
        "colab": {
          "base_uri": "https://localhost:8080/",
          "height": 619
        },
        "id": "1V4jD9-YsmLu",
        "outputId": "5715cf0b-f32f-4bed-b96e-b2e991dd2c2e"
      },
      "source": [
        "# this chart represents top 50 rated words from dataframe \n",
        "plt.figure(figsize=(18, 7))\n",
        "dataset['product'].value_counts()[:10].plot(kind='bar')\n",
        "plt.ylabel('Count of Rating')\n",
        "plt.title('Top 10 Rated Mobile')\n",
        "plt.show()"
      ],
      "execution_count": null,
      "outputs": [
        {
          "output_type": "display_data",
          "data": {
            "image/png": "[encoded data removed]",
            "text/plain": [
              "<Figure size 1296x504 with 1 Axes>"
            ]
          },
          "metadata": {
            "tags": [],
            "needs_background": "light"
          }
        }
      ]
    },
    {
      "cell_type": "markdown",
      "metadata": {
        "id": "Oz6hvuwcx5w_"
      },
      "source": [
        "\n",
        "\n",
        "*   **Here I have extracted Important columns from dataset for further analysis**\n",
        "\n"
      ]
    },
    {
      "cell_type": "code",
      "metadata": {
        "id": "ROXZHzfoyD21"
      },
      "source": [
        "def extract_data(dataset):\n",
        "    x = pd.read_csv(dataset,engine='python')\n",
        "    x = x[x['lang'] == 'en']\n",
        "    x.reset_index(inplace=True)\n",
        "    return x[['score','extract','product']]\n",
        "dataset = extract_data('data.csv')"
      ],
      "execution_count": null,
      "outputs": []
    },
    {
      "cell_type": "code",
      "metadata": {
        "id": "i9sgO8rUybWm"
      },
      "source": [
        "col_name = [\"Rating\", \"Review\", \"Mobilephone\"]\n",
        "dataset.columns = col_name"
      ],
      "execution_count": null,
      "outputs": []
    },
    {
      "cell_type": "code",
      "metadata": {
        "id": "3IV-3B1LypmR",
        "colab": {
          "base_uri": "https://localhost:8080/",
          "height": 204
        },
        "outputId": "722f32a4-0eaf-4f24-c572-3d5917123e3b"
      },
      "source": [
        "dataset.head()"
      ],
      "execution_count": null,
      "outputs": [
        {
          "output_type": "execute_result",
          "data": {
            "text/html": [
              "<div>\n",
              "<style scoped>\n",
              "    .dataframe tbody tr th:only-of-type {\n",
              "        vertical-align: middle;\n",
              "    }\n",
              "\n",
              "    .dataframe tbody tr th {\n",
              "        vertical-align: top;\n",
              "    }\n",
              "\n",
              "    .dataframe thead th {\n",
              "        text-align: right;\n",
              "    }\n",
              "</style>\n",
              "<table border=\"1\" class=\"dataframe\">\n",
              "  <thead>\n",
              "    <tr style=\"text-align: right;\">\n",
              "      <th></th>\n",
              "      <th>Rating</th>\n",
              "      <th>Review</th>\n",
              "      <th>Mobilephone</th>\n",
              "    </tr>\n",
              "  </thead>\n",
              "  <tbody>\n",
              "    <tr>\n",
              "      <th>0</th>\n",
              "      <td>10</td>\n",
              "      <td>As a diehard Samsung fan who has had every Sam...</td>\n",
              "      <td>Samsung Galaxy S8</td>\n",
              "    </tr>\n",
              "    <tr>\n",
              "      <th>1</th>\n",
              "      <td>10</td>\n",
              "      <td>Love the phone. the phone is sleek and smooth ...</td>\n",
              "      <td>Samsung Galaxy S8</td>\n",
              "    </tr>\n",
              "    <tr>\n",
              "      <th>2</th>\n",
              "      <td>6</td>\n",
              "      <td>Adequate feel. Nice heft. Processor's still sl...</td>\n",
              "      <td>Samsung Galaxy S8 (64GB) G950U 5.8\" 4G LTE Unl...</td>\n",
              "    </tr>\n",
              "    <tr>\n",
              "      <th>3</th>\n",
              "      <td>9.2</td>\n",
              "      <td>Never disappointed. One of the reasons I've be...</td>\n",
              "      <td>Samsung Galaxy S8 64GB (AT&amp;T)</td>\n",
              "    </tr>\n",
              "    <tr>\n",
              "      <th>4</th>\n",
              "      <td>4</td>\n",
              "      <td>I've now found that i'm in a group of people t...</td>\n",
              "      <td>Samsung Galaxy S8</td>\n",
              "    </tr>\n",
              "  </tbody>\n",
              "</table>\n",
              "</div>"
            ],
            "text/plain": [
              "  Rating  ...                                        Mobilephone\n",
              "0     10  ...                                  Samsung Galaxy S8\n",
              "1     10  ...                                  Samsung Galaxy S8\n",
              "2      6  ...  Samsung Galaxy S8 (64GB) G950U 5.8\" 4G LTE Unl...\n",
              "3    9.2  ...                      Samsung Galaxy S8 64GB (AT&T)\n",
              "4      4  ...                                  Samsung Galaxy S8\n",
              "\n",
              "[5 rows x 3 columns]"
            ]
          },
          "metadata": {
            "tags": []
          },
          "execution_count": 100
        }
      ]
    },
    {
      "cell_type": "markdown",
      "metadata": {
        "id": "K0mkBUBJ4cmO"
      },
      "source": [
        "**Remove missing values from dataset**"
      ]
    },
    {
      "cell_type": "code",
      "metadata": {
        "colab": {
          "base_uri": "https://localhost:8080/",
          "height": 238
        },
        "id": "DMfizKv3t2Z1",
        "outputId": "56cf6baa-3c11-4ba8-cc09-a67be6a01bf0"
      },
      "source": [
        "dataset = dataset[['Review','Rating']]\n",
        "dataset.dropna(inplace=True)\n",
        "print(\"Length of dataset after removing missing values: \",len(dataset))\n",
        "print('')\n",
        "dataset.head()"
      ],
      "execution_count": null,
      "outputs": [
        {
          "output_type": "stream",
          "text": [
            "Length of dataset after removing missing values:  545424\n",
            "\n"
          ],
          "name": "stdout"
        },
        {
          "output_type": "execute_result",
          "data": {
            "text/html": [
              "<div>\n",
              "<style scoped>\n",
              "    .dataframe tbody tr th:only-of-type {\n",
              "        vertical-align: middle;\n",
              "    }\n",
              "\n",
              "    .dataframe tbody tr th {\n",
              "        vertical-align: top;\n",
              "    }\n",
              "\n",
              "    .dataframe thead th {\n",
              "        text-align: right;\n",
              "    }\n",
              "</style>\n",
              "<table border=\"1\" class=\"dataframe\">\n",
              "  <thead>\n",
              "    <tr style=\"text-align: right;\">\n",
              "      <th></th>\n",
              "      <th>Review</th>\n",
              "      <th>Rating</th>\n",
              "    </tr>\n",
              "  </thead>\n",
              "  <tbody>\n",
              "    <tr>\n",
              "      <th>0</th>\n",
              "      <td>As a diehard Samsung fan who has had every Sam...</td>\n",
              "      <td>10</td>\n",
              "    </tr>\n",
              "    <tr>\n",
              "      <th>1</th>\n",
              "      <td>Love the phone. the phone is sleek and smooth ...</td>\n",
              "      <td>10</td>\n",
              "    </tr>\n",
              "    <tr>\n",
              "      <th>2</th>\n",
              "      <td>Adequate feel. Nice heft. Processor's still sl...</td>\n",
              "      <td>6</td>\n",
              "    </tr>\n",
              "    <tr>\n",
              "      <th>3</th>\n",
              "      <td>Never disappointed. One of the reasons I've be...</td>\n",
              "      <td>9.2</td>\n",
              "    </tr>\n",
              "    <tr>\n",
              "      <th>4</th>\n",
              "      <td>I've now found that i'm in a group of people t...</td>\n",
              "      <td>4</td>\n",
              "    </tr>\n",
              "  </tbody>\n",
              "</table>\n",
              "</div>"
            ],
            "text/plain": [
              "                                              Review Rating\n",
              "0  As a diehard Samsung fan who has had every Sam...     10\n",
              "1  Love the phone. the phone is sleek and smooth ...     10\n",
              "2  Adequate feel. Nice heft. Processor's still sl...      6\n",
              "3  Never disappointed. One of the reasons I've be...    9.2\n",
              "4  I've now found that i'm in a group of people t...      4"
            ]
          },
          "metadata": {
            "tags": []
          },
          "execution_count": 101
        }
      ]
    },
    {
      "cell_type": "markdown",
      "metadata": {
        "id": "n8OLzTr54mXx"
      },
      "source": [
        "**Tokenization of Review column and Remove punctuation**"
      ]
    },
    {
      "cell_type": "code",
      "metadata": {
        "colab": {
          "base_uri": "https://localhost:8080/",
          "height": 204
        },
        "id": "-mXuoAhNuJwm",
        "outputId": "844cad51-85e6-4994-a22f-88b637a5f0c1"
      },
      "source": [
        "from nltk.tokenize import RegexpTokenizer\n",
        "tokenizer = RegexpTokenizer(r'\\w+')\n",
        "dataset['Review'] = dataset['Review'].apply(lambda x: tokenizer.tokenize(x.lower()))\n",
        "dataset.head()"
      ],
      "execution_count": null,
      "outputs": [
        {
          "output_type": "execute_result",
          "data": {
            "text/html": [
              "<div>\n",
              "<style scoped>\n",
              "    .dataframe tbody tr th:only-of-type {\n",
              "        vertical-align: middle;\n",
              "    }\n",
              "\n",
              "    .dataframe tbody tr th {\n",
              "        vertical-align: top;\n",
              "    }\n",
              "\n",
              "    .dataframe thead th {\n",
              "        text-align: right;\n",
              "    }\n",
              "</style>\n",
              "<table border=\"1\" class=\"dataframe\">\n",
              "  <thead>\n",
              "    <tr style=\"text-align: right;\">\n",
              "      <th></th>\n",
              "      <th>Review</th>\n",
              "      <th>Rating</th>\n",
              "    </tr>\n",
              "  </thead>\n",
              "  <tbody>\n",
              "    <tr>\n",
              "      <th>0</th>\n",
              "      <td>[as, a, diehard, samsung, fan, who, has, had, ...</td>\n",
              "      <td>10</td>\n",
              "    </tr>\n",
              "    <tr>\n",
              "      <th>1</th>\n",
              "      <td>[love, the, phone, the, phone, is, sleek, and,...</td>\n",
              "      <td>10</td>\n",
              "    </tr>\n",
              "    <tr>\n",
              "      <th>2</th>\n",
              "      <td>[adequate, feel, nice, heft, processor, s, sti...</td>\n",
              "      <td>6</td>\n",
              "    </tr>\n",
              "    <tr>\n",
              "      <th>3</th>\n",
              "      <td>[never, disappointed, one, of, the, reasons, i...</td>\n",
              "      <td>9.2</td>\n",
              "    </tr>\n",
              "    <tr>\n",
              "      <th>4</th>\n",
              "      <td>[i, ve, now, found, that, i, m, in, a, group, ...</td>\n",
              "      <td>4</td>\n",
              "    </tr>\n",
              "  </tbody>\n",
              "</table>\n",
              "</div>"
            ],
            "text/plain": [
              "                                              Review Rating\n",
              "0  [as, a, diehard, samsung, fan, who, has, had, ...     10\n",
              "1  [love, the, phone, the, phone, is, sleek, and,...     10\n",
              "2  [adequate, feel, nice, heft, processor, s, sti...      6\n",
              "3  [never, disappointed, one, of, the, reasons, i...    9.2\n",
              "4  [i, ve, now, found, that, i, m, in, a, group, ...      4"
            ]
          },
          "metadata": {
            "tags": []
          },
          "execution_count": 102
        }
      ]
    },
    {
      "cell_type": "markdown",
      "metadata": {
        "id": "gQLqZhW25mEK"
      },
      "source": [
        "**Remove stop words from Review**"
      ]
    },
    {
      "cell_type": "code",
      "metadata": {
        "colab": {
          "base_uri": "https://localhost:8080/",
          "height": 204
        },
        "id": "JL7PrfdJuV4-",
        "outputId": "278e22b0-97ab-4180-ad4c-c0d1dc34bdb5"
      },
      "source": [
        "stops = set(stopwords.words(\"english\"))\n",
        "dataset['Review'] = dataset['Review'].apply(lambda x: [item for item in x if item not in stops])\n",
        "dataset.head()"
      ],
      "execution_count": null,
      "outputs": [
        {
          "output_type": "execute_result",
          "data": {
            "text/html": [
              "<div>\n",
              "<style scoped>\n",
              "    .dataframe tbody tr th:only-of-type {\n",
              "        vertical-align: middle;\n",
              "    }\n",
              "\n",
              "    .dataframe tbody tr th {\n",
              "        vertical-align: top;\n",
              "    }\n",
              "\n",
              "    .dataframe thead th {\n",
              "        text-align: right;\n",
              "    }\n",
              "</style>\n",
              "<table border=\"1\" class=\"dataframe\">\n",
              "  <thead>\n",
              "    <tr style=\"text-align: right;\">\n",
              "      <th></th>\n",
              "      <th>Review</th>\n",
              "      <th>Rating</th>\n",
              "    </tr>\n",
              "  </thead>\n",
              "  <tbody>\n",
              "    <tr>\n",
              "      <th>0</th>\n",
              "      <td>[diehard, samsung, fan, every, samsung, phone,...</td>\n",
              "      <td>10</td>\n",
              "    </tr>\n",
              "    <tr>\n",
              "      <th>1</th>\n",
              "      <td>[love, phone, phone, sleek, smooth, beautiful,...</td>\n",
              "      <td>10</td>\n",
              "    </tr>\n",
              "    <tr>\n",
              "      <th>2</th>\n",
              "      <td>[adequate, feel, nice, heft, processor, still,...</td>\n",
              "      <td>6</td>\n",
              "    </tr>\n",
              "    <tr>\n",
              "      <th>3</th>\n",
              "      <td>[never, disappointed, one, reasons, long, sams...</td>\n",
              "      <td>9.2</td>\n",
              "    </tr>\n",
              "    <tr>\n",
              "      <th>4</th>\n",
              "      <td>[found, group, people, carried, phone, pocket,...</td>\n",
              "      <td>4</td>\n",
              "    </tr>\n",
              "  </tbody>\n",
              "</table>\n",
              "</div>"
            ],
            "text/plain": [
              "                                              Review Rating\n",
              "0  [diehard, samsung, fan, every, samsung, phone,...     10\n",
              "1  [love, phone, phone, sleek, smooth, beautiful,...     10\n",
              "2  [adequate, feel, nice, heft, processor, still,...      6\n",
              "3  [never, disappointed, one, reasons, long, sams...    9.2\n",
              "4  [found, group, people, carried, phone, pocket,...      4"
            ]
          },
          "metadata": {
            "tags": []
          },
          "execution_count": 103
        }
      ]
    },
    {
      "cell_type": "code",
      "metadata": {
        "id": "rRqaWrwtuhf1"
      },
      "source": [
        "#joining all tokens to proceed further for data modeling\n",
        "dataset['Review'] = dataset['Review'].apply(' '.join)"
      ],
      "execution_count": null,
      "outputs": []
    },
    {
      "cell_type": "code",
      "metadata": {
        "colab": {
          "base_uri": "https://localhost:8080/",
          "height": 204
        },
        "id": "MFQSrj4OupFR",
        "outputId": "e432a5d5-f55d-4037-abd8-c49dfac1de97"
      },
      "source": [
        "dataset.head()"
      ],
      "execution_count": null,
      "outputs": [
        {
          "output_type": "execute_result",
          "data": {
            "text/html": [
              "<div>\n",
              "<style scoped>\n",
              "    .dataframe tbody tr th:only-of-type {\n",
              "        vertical-align: middle;\n",
              "    }\n",
              "\n",
              "    .dataframe tbody tr th {\n",
              "        vertical-align: top;\n",
              "    }\n",
              "\n",
              "    .dataframe thead th {\n",
              "        text-align: right;\n",
              "    }\n",
              "</style>\n",
              "<table border=\"1\" class=\"dataframe\">\n",
              "  <thead>\n",
              "    <tr style=\"text-align: right;\">\n",
              "      <th></th>\n",
              "      <th>Review</th>\n",
              "      <th>Rating</th>\n",
              "    </tr>\n",
              "  </thead>\n",
              "  <tbody>\n",
              "    <tr>\n",
              "      <th>0</th>\n",
              "      <td>diehard samsung fan every samsung phone since ...</td>\n",
              "      <td>10</td>\n",
              "    </tr>\n",
              "    <tr>\n",
              "      <th>1</th>\n",
              "      <td>love phone phone sleek smooth beautiful highly...</td>\n",
              "      <td>10</td>\n",
              "    </tr>\n",
              "    <tr>\n",
              "      <th>2</th>\n",
              "      <td>adequate feel nice heft processor still sluggi...</td>\n",
              "      <td>6</td>\n",
              "    </tr>\n",
              "    <tr>\n",
              "      <th>3</th>\n",
              "      <td>never disappointed one reasons long samsung pr...</td>\n",
              "      <td>9.2</td>\n",
              "    </tr>\n",
              "    <tr>\n",
              "      <th>4</th>\n",
              "      <td>found group people carried phone pocket withou...</td>\n",
              "      <td>4</td>\n",
              "    </tr>\n",
              "  </tbody>\n",
              "</table>\n",
              "</div>"
            ],
            "text/plain": [
              "                                              Review Rating\n",
              "0  diehard samsung fan every samsung phone since ...     10\n",
              "1  love phone phone sleek smooth beautiful highly...     10\n",
              "2  adequate feel nice heft processor still sluggi...      6\n",
              "3  never disappointed one reasons long samsung pr...    9.2\n",
              "4  found group people carried phone pocket withou...      4"
            ]
          },
          "metadata": {
            "tags": []
          },
          "execution_count": 105
        }
      ]
    },
    {
      "cell_type": "markdown",
      "metadata": {
        "id": "g9o-5zbp5zrG"
      },
      "source": [
        "**show unique values in Rating**"
      ]
    },
    {
      "cell_type": "code",
      "metadata": {
        "colab": {
          "base_uri": "https://localhost:8080/"
        },
        "id": "wnlUkTF-vLlW",
        "outputId": "871d8ccf-19d6-484d-9da2-42739be75b34"
      },
      "source": [
        "dataset.dropna(inplace=True)\n",
        "np.unique(dataset.Rating)"
      ],
      "execution_count": null,
      "outputs": [
        {
          "output_type": "execute_result",
          "data": {
            "text/plain": [
              "array(['1', '1.2', '1.3', '1.4', '1.6', '1.7', '1.8', '10', '2', '2.2',\n",
              "       '2.3', '2.4', '2.6', '2.7', '2.8', '3', '3.2', '3.3', '3.4', '3.6',\n",
              "       '3.7', '3.8', '4', '4.2', '4.3', '4.4', '4.6', '4.7', '4.8', '5',\n",
              "       '5.2', '5.3', '5.4', '5.6', '5.7', '5.8', '5.9', '6', '6.2', '6.3',\n",
              "       '6.4', '6.6', '6.7', '6.8', '7', '7.1', '7.2', '7.3', '7.4', '7.5',\n",
              "       '7.6', '7.7', '7.8', '7.9', '8', '8.1', '8.2', '8.3', '8.4', '8.5',\n",
              "       '8.6', '8.7', '8.8', '8.9', '9', '9.1', '9.2', '9.3', '9.4', '9.5',\n",
              "       '9.6', '9.7', '9.8'], dtype=object)"
            ]
          },
          "metadata": {
            "tags": []
          },
          "execution_count": 106
        }
      ]
    },
    {
      "cell_type": "markdown",
      "metadata": {
        "id": "BAGix7Cz56wH"
      },
      "source": [
        "*   Converted float rating value in to integer value for convenience"
      ]
    },
    {
      "cell_type": "code",
      "metadata": {
        "id": "dT0kZVH-vQ8x"
      },
      "source": [
        "def apply_trans(p):\n",
        "    if p >= 1. and p < 2.:\n",
        "        return 1\n",
        "    elif p >= 2. and p < 3.:\n",
        "        return 2\n",
        "    elif p >= 3. and p < 4.:\n",
        "        return 3\n",
        "    elif p >= 4. and p < 5.:\n",
        "        return 4\n",
        "    elif p >= 5. and p < 6.:\n",
        "        return 5\n",
        "    elif p >= 6. and p < 7.:\n",
        "        return 6\n",
        "    elif p >= 7. and p < 8.:\n",
        "        return 7\n",
        "    elif p >= 8. and p < 9.:\n",
        "        return 8\n",
        "    elif p >= 9. and p < 10.:\n",
        "        return 9\n",
        "    else:\n",
        "        return 10\n",
        "        \n",
        "dataset['Rating'] = dataset['Rating'].apply(lambda x :apply_trans(float(x)))\n",
        "dataset.reset_index(inplace=True)"
      ],
      "execution_count": null,
      "outputs": []
    },
    {
      "cell_type": "markdown",
      "metadata": {
        "id": "hxAWr7-S6ObR"
      },
      "source": [
        "**Visualize Data**"
      ]
    },
    {
      "cell_type": "code",
      "metadata": {
        "colab": {
          "base_uri": "https://localhost:8080/",
          "height": 404
        },
        "id": "Hbp6MUtruvFU",
        "outputId": "7693a58b-1b93-4cd5-e69e-70b4092bc5dd"
      },
      "source": [
        "fig = plt.figure(figsize=(9,6))\n",
        "n, bins, patches = plt.hist(dataset.Rating, bins=40, facecolor='red',alpha = 1)\n",
        "plt.xlabel('Rating')\n",
        "plt.ylabel('Counts')\n",
        "plt.title('Occurrence of each rating in preprocessed data')\n",
        "fig.patch.set_facecolor('white')\n",
        "plt.show()\n",
        "# width of bars are defined using value of bin"
      ],
      "execution_count": null,
      "outputs": [
        {
          "output_type": "display_data",
          "data": {
            "image/png": "[encoded data removed]",
            "text/plain": [
              "<Figure size 648x432 with 1 Axes>"
            ]
          },
          "metadata": {
            "tags": []
          }
        }
      ]
    },
    {
      "cell_type": "markdown",
      "metadata": {
        "id": "esP1-TvH2Ors"
      },
      "source": [
        "\n",
        "\n",
        "*   **Below function gives the exact values for Ratings.**\n",
        "\n"
      ]
    },
    {
      "cell_type": "code",
      "metadata": {
        "colab": {
          "base_uri": "https://localhost:8080/"
        },
        "id": "ZH4WYTa9u6Wy",
        "outputId": "5ba9d5ba-7ce7-493c-8bfa-2dbc06bfc96f"
      },
      "source": [
        "#average value of all the ratings \n",
        "print(\"Average rating: \",dataset['Rating'].mean())\n",
        "#median value of ratings values\n",
        "print(\"Median value: \",dataset['Rating'].median())"
      ],
      "execution_count": null,
      "outputs": [
        {
          "output_type": "stream",
          "text": [
            "Average rating:  7.665067910469653\n",
            "Median value:  8.0\n"
          ],
          "name": "stdout"
        }
      ]
    },
    {
      "cell_type": "markdown",
      "metadata": {
        "id": "Zf59ok7b6jrN"
      },
      "source": [
        "**Model Creation**"
      ]
    },
    {
      "cell_type": "code",
      "metadata": {
        "id": "7naNOEGaxiWD"
      },
      "source": [
        "new_dataset = dataset"
      ],
      "execution_count": null,
      "outputs": []
    },
    {
      "cell_type": "code",
      "metadata": {
        "colab": {
          "base_uri": "https://localhost:8080/"
        },
        "id": "Go3hUJ4GyvOc",
        "outputId": "2f5f02b0-1efe-46eb-8d61-c9dc3c6b128f"
      },
      "source": [
        "#occurance of each rating in the column\n",
        "new_dataset['Rating'].value_counts()"
      ],
      "execution_count": null,
      "outputs": [
        {
          "output_type": "execute_result",
          "data": {
            "text/plain": [
              "10    253010\n",
              "8     107438\n",
              "2      75124\n",
              "6      48205\n",
              "4      32199\n",
              "9      18852\n",
              "7       4846\n",
              "5       2663\n",
              "1       1666\n",
              "3       1421\n",
              "Name: Rating, dtype: int64"
            ]
          },
          "metadata": {
            "tags": []
          },
          "execution_count": 111
        }
      ]
    },
    {
      "cell_type": "markdown",
      "metadata": {
        "id": "TWyk3t6K64IX"
      },
      "source": [
        "**Split dataset randomly**\n",
        "\n",
        "\n",
        "*   Train\n",
        "*   Test\n",
        "Here , I have divided dataset in to 80:20 ratio as train and test data.\n"
      ]
    },
    {
      "cell_type": "code",
      "metadata": {
        "id": "iQ_6nRr1yzMq"
      },
      "source": [
        "X_train, X_test, y_train, y_test = train_test_split(new_dataset['Review'], new_dataset['Rating'], test_size=0.2) # 80% training and 20% test"
      ],
      "execution_count": null,
      "outputs": []
    },
    {
      "cell_type": "markdown",
      "metadata": {
        "id": "03ErB5nM7RMF"
      },
      "source": [
        "\n",
        "\n",
        "*   **Vectorizing our data**\n",
        "*   **Convert a collection of raw documents to a matrix of TF-IDF features**\n",
        "\n"
      ]
    },
    {
      "cell_type": "markdown",
      "metadata": {
        "id": "Uqgsn-O47xie"
      },
      "source": [
        "\n",
        "**What is TF-IDF?**\n",
        "*   TF-Term frequency.\n",
        "*   IDF--Inverse document frequency.\n",
        "*   TF-IDF is a weight often used in information retrieval and text mining.\n",
        "*   TfidfVectorizer:\n",
        "*   Transforms text into a sparse matrix of n-gram counts.\n",
        "*   TfidfVectorizer and CountVectorizer both are same thing.\n",
        "*   TfidfTransformer:\n",
        "*   Performs the TF-IDF transformation from a provided matrix of counts.\n",
        "\n",
        "\n",
        "\n",
        "\n",
        "\n",
        "\n",
        "\n"
      ]
    },
    {
      "cell_type": "code",
      "metadata": {
        "id": "P2bvOKNXzKpL"
      },
      "source": [
        "vectorizer = TfidfVectorizer()\n",
        "transformer = TfidfTransformer()\n",
        "\n",
        "X_train = vectorizer.fit_transform(X_train)\n",
        "X_test = vectorizer.transform(X_test)\n",
        "\n",
        "X_train_counts = transformer.fit_transform(X_train)\n",
        "X_test_counts = transformer.fit_transform(X_test)\n"
      ],
      "execution_count": null,
      "outputs": []
    },
    {
      "cell_type": "markdown",
      "metadata": {
        "id": "5xzTIZu08mkh"
      },
      "source": [
        "**Classification Model**\n",
        "\n",
        "1.   Linear Support Vector Machine.\n",
        "2.   Rigid classifier.\n",
        "3.   Naive Bayes.\n",
        "\n"
      ]
    },
    {
      "cell_type": "markdown",
      "metadata": {
        "id": "T8MGDziRJned"
      },
      "source": [
        "**Linear Support vector machine**"
      ]
    },
    {
      "cell_type": "code",
      "metadata": {
        "id": "qFO_ScXHGq99",
        "colab": {
          "base_uri": "https://localhost:8080/"
        },
        "outputId": "da2f9022-caa9-4719-e3e7-948b8a743dab"
      },
      "source": [
        "model_linear_SVC = LinearSVC().fit(X_train,y_train.astype('int'))\n",
        "y_predicted_linear_SVC = model_linear_SVC.predict(X_test)\n",
        "accuracy = accuracy_score(y_test.astype('int'),y_predicted_linear_SVC) * float(100)\n",
        "accuracy_linear_svc = str(accuracy)\n",
        "print('Testing Accuracy for Linear Support vector machine is: '+accuracy_linear_svc+' %')"
      ],
      "execution_count": null,
      "outputs": [
        {
          "output_type": "stream",
          "text": [
            "Testing Accuracy for Linear Support vector machine is: 57.51294861805014 %\n"
          ],
          "name": "stdout"
        }
      ]
    },
    {
      "cell_type": "code",
      "metadata": {
        "id": "NQ9R2dQLHLrg",
        "colab": {
          "base_uri": "https://localhost:8080/",
          "height": 545
        },
        "outputId": "574d8919-fa23-4d86-ae27-f041d8ae5245"
      },
      "source": [
        "print(\"Confusion matrix for Linear Support vector machine:\\n\")\n",
        "fig= plt.figure(figsize=(8,6))\n",
        "ax = fig.add_axes([1,1,1,1])\n",
        "matrix = confusion_matrix(y_test.astype('int'), y_predicted_linear_SVC)\n",
        "sb.heatmap(matrix/np.sum(matrix), square=True, annot=True, cmap=\"Reds\")\n",
        "ax.set_xlabel('Actual rating')\n",
        "ax.set_ylabel('Predicted rating')"
      ],
      "execution_count": null,
      "outputs": [
        {
          "output_type": "stream",
          "text": [
            "Confusion matrix for Linear Support vector machine:\n",
            "\n"
          ],
          "name": "stdout"
        },
        {
          "output_type": "execute_result",
          "data": {
            "text/plain": [
              "Text(583.8, 0.5, 'Predicted rating')"
            ]
          },
          "metadata": {
            "tags": []
          },
          "execution_count": 115
        },
        {
          "output_type": "display_data",
          "data": {
            "image/png": "[encoded data removed]",
            "text/plain": [
              "<Figure size 576x432 with 2 Axes>"
            ]
          },
          "metadata": {
            "tags": [],
            "needs_background": "light"
          }
        }
      ]
    },
    {
      "cell_type": "markdown",
      "metadata": {
        "id": "OLPpttqH-H8F"
      },
      "source": [
        "**Rigid Classifier**"
      ]
    },
    {
      "cell_type": "code",
      "metadata": {
        "id": "nLLJaHuGzZbT",
        "colab": {
          "base_uri": "https://localhost:8080/"
        },
        "outputId": "ceaafbf4-2893-4b0a-a857-b5e0f1dd4a1e"
      },
      "source": [
        "model_ridge_class = RidgeClassifier().fit(X_train_counts, y_train.astype('int'))\n",
        "y_predicted = model_ridge_class.predict(X_test_counts)\n",
        "y_predicted_ridge_class = np.round(y_predicted)\n",
        "accuracy = accuracy_score(y_test,y_predicted_ridge_class) * float(100)\n",
        "ridge_class_accuracy = str(accuracy)\n",
        "print('Testing Accuracy on ridge classifier model is: '+ridge_class_accuracy+' %')"
      ],
      "execution_count": null,
      "outputs": [
        {
          "output_type": "stream",
          "text": [
            "Testing Accuracy on ridge classifier model is: 56.27904844845762 %\n"
          ],
          "name": "stdout"
        }
      ]
    },
    {
      "cell_type": "code",
      "metadata": {
        "id": "oj-8Pg2uzkj1",
        "colab": {
          "base_uri": "https://localhost:8080/",
          "height": 545
        },
        "outputId": "eb2d6e31-5ce2-46b1-8550-cb962917c321"
      },
      "source": [
        "print(\"Confusion matrix for Ridge Classifier:\\n\")\n",
        "fig= plt.figure(figsize=(10,6))\n",
        "ax = fig.add_axes([1,1,1,1])\n",
        "matrix = confusion_matrix(y_test.astype('int'), y_predicted_ridge_class)\n",
        "sb.heatmap(matrix/np.sum(matrix), square=True, annot=True, cmap=\"Blues\")\n",
        "ax.set_xlabel('Actual rating')\n",
        "ax.set_ylabel('Predicted rating')"
      ],
      "execution_count": null,
      "outputs": [
        {
          "output_type": "stream",
          "text": [
            "Confusion matrix for Ridge Classifier:\n",
            "\n"
          ],
          "name": "stdout"
        },
        {
          "output_type": "execute_result",
          "data": {
            "text/plain": [
              "Text(842.9999999999998, 0.5, 'Predicted rating')"
            ]
          },
          "metadata": {
            "tags": []
          },
          "execution_count": 117
        },
        {
          "output_type": "display_data",
          "data": {
            "image/png": "[encoded data removed]",
            "text/plain": [
              "<Figure size 720x432 with 2 Axes>"
            ]
          },
          "metadata": {
            "tags": [],
            "needs_background": "light"
          }
        }
      ]
    },
    {
      "cell_type": "markdown",
      "metadata": {
        "id": "YS_7Q6tl9gVC"
      },
      "source": [
        "**Naive Bayes**"
      ]
    },
    {
      "cell_type": "code",
      "metadata": {
        "id": "73yCt_NN27sC",
        "colab": {
          "base_uri": "https://localhost:8080/"
        },
        "outputId": "89d16f17-f2e4-4428-dfa3-b8a6d70cb95a"
      },
      "source": [
        "model_mNB = MultinomialNB().fit(X_train_counts, y_train.astype('int'))\n",
        "y_predicted_mNB = model_mNB.predict(X_test_counts)\n",
        "accuracy = accuracy_score(y_test.astype('int'),y_predicted_mNB) * float(100)\n",
        "accuracy_mNB = str(accuracy)\n",
        "print('Testing Accuracy on multinomial naive bayes model is: '+accuracy_mNB+' %')"
      ],
      "execution_count": null,
      "outputs": [
        {
          "output_type": "stream",
          "text": [
            "Testing Accuracy on multinomial naive bayes model is: 53.53898336159876 %\n"
          ],
          "name": "stdout"
        }
      ]
    },
    {
      "cell_type": "code",
      "metadata": {
        "id": "NnmLOo6w3Qvk",
        "colab": {
          "base_uri": "https://localhost:8080/",
          "height": 761
        },
        "outputId": "626efaaa-02e2-4daf-8565-ae9b49e0ef3f"
      },
      "source": [
        "#confusion matrix for what output we got\n",
        "print(\"Confusion matrix for Multinomial Naive Bayes classifier:\\n\")\n",
        "fig= plt.figure(figsize=(15,9))\n",
        "ax = fig.add_axes([1,1,1,1])\n",
        "matrix = confusion_matrix(y_test.astype('int'), y_predicted_mNB)\n",
        "sb.heatmap(matrix/np.sum(matrix), square=True, annot=True)\n",
        "ax.set_xlabel('Actual rating')\n",
        "ax.set_ylabel('Predicted rating')"
      ],
      "execution_count": null,
      "outputs": [
        {
          "output_type": "stream",
          "text": [
            "Confusion matrix for Multinomial Naive Bayes classifier:\n",
            "\n"
          ],
          "name": "stdout"
        },
        {
          "output_type": "execute_result",
          "data": {
            "text/plain": [
              "Text(1274.9999999999998, 0.5, 'Predicted rating')"
            ]
          },
          "metadata": {
            "tags": []
          },
          "execution_count": 119
        },
        {
          "output_type": "display_data",
          "data": {
            "image/png": "[encoded data removed]",
            "text/plain": [
              "<Figure size 1080x648 with 2 Axes>"
            ]
          },
          "metadata": {
            "tags": [],
            "needs_background": "light"
          }
        }
      ]
    },
    {
      "cell_type": "markdown",
      "metadata": {
        "id": "zsDAJvFbHXZC"
      },
      "source": [
        "**Performance evaluation of Models:**\n",
        "\n",
        "\n",
        "*   F1 score\n",
        "*   Precision\n",
        "*   Support\n",
        "\n",
        "\n"
      ]
    },
    {
      "cell_type": "code",
      "metadata": {
        "id": "5YVtMMXb9vEX",
        "colab": {
          "base_uri": "https://localhost:8080/"
        },
        "outputId": "9529b7bf-6697-455f-dcd7-bdfc04bfbdaf"
      },
      "source": [
        "labels = ['0.0','1.0','2.0','3.0','4.0','5.0','6.0','7.0','8.0','9.0']\n",
        "p = classification_report(y_test.astype('int'), y_predicted_linear_SVC , target_names=labels,zero_division=1)\n",
        "print(\"Report for Linear SVC:\\n \")\n",
        "print(p)\n",
        "print('')"
      ],
      "execution_count": null,
      "outputs": [
        {
          "output_type": "stream",
          "text": [
            "Report for Linear SVC:\n",
            " \n",
            "              precision    recall  f1-score   support\n",
            "\n",
            "         0.0       0.11      0.01      0.01       376\n",
            "         1.0       0.57      0.74      0.64     15333\n",
            "         2.0       0.05      0.00      0.01       256\n",
            "         3.0       0.22      0.04      0.07      6485\n",
            "         4.0       0.03      0.00      0.00       510\n",
            "         5.0       0.30      0.10      0.15      9637\n",
            "         6.0       0.11      0.01      0.01       979\n",
            "         7.0       0.37      0.24      0.29     21404\n",
            "         8.0       0.24      0.04      0.07      3740\n",
            "         9.0       0.64      0.89      0.75     50365\n",
            "\n",
            "    accuracy                           0.58    109085\n",
            "   macro avg       0.26      0.21      0.20    109085\n",
            "weighted avg       0.50      0.58      0.51    109085\n",
            "\n",
            "\n"
          ],
          "name": "stdout"
        }
      ]
    },
    {
      "cell_type": "code",
      "metadata": {
        "id": "u9yYEkdAH_qZ",
        "colab": {
          "base_uri": "https://localhost:8080/"
        },
        "outputId": "1978c9f4-031e-4c89-d419-38487afe0d54"
      },
      "source": [
        "p = classification_report(y_test.astype('int'), y_predicted_ridge_class, target_names=labels,zero_division=1,)\n",
        "print(\"Report for Ridge regression:\\n \")\n",
        "print(p)"
      ],
      "execution_count": null,
      "outputs": [
        {
          "output_type": "stream",
          "text": [
            "Report for Ridge regression:\n",
            " \n",
            "              precision    recall  f1-score   support\n",
            "\n",
            "         0.0       0.00      0.00      0.00       376\n",
            "         1.0       0.55      0.68      0.61     15333\n",
            "         2.0       0.00      0.00      0.00       256\n",
            "         3.0       0.21      0.02      0.04      6485\n",
            "         4.0       0.00      0.00      0.00       510\n",
            "         5.0       0.29      0.08      0.13      9637\n",
            "         6.0       0.12      0.01      0.01       979\n",
            "         7.0       0.36      0.22      0.28     21404\n",
            "         8.0       0.22      0.03      0.05      3740\n",
            "         9.0       0.62      0.90      0.73     50365\n",
            "\n",
            "    accuracy                           0.56    109085\n",
            "   macro avg       0.24      0.19      0.18    109085\n",
            "weighted avg       0.48      0.56      0.49    109085\n",
            "\n"
          ],
          "name": "stdout"
        }
      ]
    },
    {
      "cell_type": "code",
      "metadata": {
        "id": "evfCI50R9-47",
        "colab": {
          "base_uri": "https://localhost:8080/"
        },
        "outputId": "834554e9-8599-40ed-d4b1-986b5b482706"
      },
      "source": [
        "p = classification_report(y_test.astype('int'), y_predicted_mNB, target_names=labels,zero_division=1,)\n",
        "print(\"Report for KNN:\\n \")\n",
        "print(p)"
      ],
      "execution_count": null,
      "outputs": [
        {
          "output_type": "stream",
          "text": [
            "Report for KNN:\n",
            " \n",
            "              precision    recall  f1-score   support\n",
            "\n",
            "         0.0       1.00      0.00      0.00       376\n",
            "         1.0       0.62      0.50      0.56     15333\n",
            "         2.0       1.00      0.00      0.00       256\n",
            "         3.0       0.00      0.00      0.00      6485\n",
            "         4.0       1.00      0.00      0.00       510\n",
            "         5.0       0.33      0.00      0.01      9637\n",
            "         6.0       1.00      0.00      0.00       979\n",
            "         7.0       0.31      0.07      0.12     21404\n",
            "         8.0       0.20      0.00      0.00      3740\n",
            "         9.0       0.54      0.97      0.69     50365\n",
            "\n",
            "    accuracy                           0.54    109085\n",
            "   macro avg       0.60      0.16      0.14    109085\n",
            "weighted avg       0.45      0.54      0.42    109085\n",
            "\n"
          ],
          "name": "stdout"
        }
      ]
    },
    {
      "cell_type": "markdown",
      "metadata": {
        "id": "flmMf5byIEy0"
      },
      "source": [
        "**Accuracy and F1 score for each classifer**\n",
        "\n",
        "\n",
        "1.   **Linear Support Vector Machine**\n",
        "*   Accuracy: 57.73387725168446\n",
        "*   F1 Score: 0.58\n",
        "\n",
        "2.   **Rigit Classifier**\n",
        "*   Accuracy: 56.466058578172984 %\n",
        "*   F1 Score: 0.56\n",
        "\n",
        "3.   **Naive Bayes**\n",
        "*   Accuracy: 53.6609066324426 %\n",
        "*   F1 Score: 0.54\n",
        "\n",
        "\n",
        "\n",
        "\n",
        "\n",
        "\n",
        "\n"
      ]
    },
    {
      "cell_type": "markdown",
      "metadata": {
        "id": "S5FUc2eX-MrU"
      },
      "source": [
        "**Final Result**"
      ]
    },
    {
      "cell_type": "code",
      "metadata": {
        "id": "8o4P4EE4WGMg"
      },
      "source": [
        "acc1 = float(accuracy_linear_svc)\n",
        "acc2 = float(ridge_class_accuracy)\n",
        "acc3 = float(accuracy_mNB)"
      ],
      "execution_count": null,
      "outputs": []
    },
    {
      "cell_type": "code",
      "metadata": {
        "id": "51BnuqCfWVWq"
      },
      "source": [
        "acc=[]\n",
        "acc.append(acc1)\n",
        "acc.append(acc2)\n",
        "acc.append(acc3)"
      ],
      "execution_count": null,
      "outputs": []
    },
    {
      "cell_type": "code",
      "metadata": {
        "colab": {
          "base_uri": "https://localhost:8080/",
          "height": 268
        },
        "id": "xrC9_yjZWXSB",
        "outputId": "c7207705-b1fe-493c-d6d8-020c2b19588d"
      },
      "source": [
        "fig = plt.figure(figsize=(6,3))\n",
        "labels = ['Linear SVC','Ridge','MNB']\n",
        "ax = fig.add_axes([0, 0, 1, 1])\n",
        "ax.bar(labels,acc)\n",
        "plt.ylim(0,80)\n",
        "plt.show()"
      ],
      "execution_count": null,
      "outputs": [
        {
          "output_type": "display_data",
          "data": {
            "image/png": "[encoded data removed]",
            "text/plain": [
              "<Figure size 432x216 with 1 Axes>"
            ]
          },
          "metadata": {
            "tags": [],
            "needs_background": "light"
          }
        }
      ]
    },
    {
      "cell_type": "code",
      "metadata": {
        "colab": {
          "base_uri": "https://localhost:8080/"
        },
        "id": "hy6WNKmfWvew",
        "outputId": "511461b6-a358-4e23-d538-584d0b566a33"
      },
      "source": [
        "os.chdir('/content/gdrive/My Drive/Colab Notebooks')\n",
        "from sklearn.externals import joblib\n",
        "joblib.dump(model_linear_SVC,'model_linear_svc.sav')\n",
        "joblib.dump(model_ridge_class,'model_ridge_class.sav')\n",
        "joblib.dump(model_mNB,'model_mNB.sav')\n",
        "joblib.dump(vectorizer,'vectorizer.sav')\n",
        "joblib.dump(transformer,'transformer.sav')"
      ],
      "execution_count": null,
      "outputs": [
        {
          "output_type": "execute_result",
          "data": {
            "text/plain": [
              "['transformer.sav']"
            ]
          },
          "metadata": {
            "tags": []
          },
          "execution_count": 126
        }
      ]
    },
    {
      "cell_type": "markdown",
      "metadata": {
        "id": "gQ6UPS_MHuiQ"
      },
      "source": [
        "**As from above result Linear Support Vector machine gives the highest accuracy so I will use this for random review input**"
      ]
    },
    {
      "cell_type": "code",
      "metadata": {
        "id": "l881UWWzG_iJ"
      },
      "source": [
        "def accuracy_linear_svc(smt):\n",
        "  smt=[smt] \n",
        "  smt = vectorizer.transform(smt) \n",
        "  smt = transformer.fit_transform(smt) #transforming input string vector\n",
        "  prediction = np.round(model_linear_SVC.predict(smt)) #using ridge classifier trained model to predict rating for what user has gave input\n",
        "  return prediction"
      ],
      "execution_count": null,
      "outputs": []
    },
    {
      "cell_type": "code",
      "metadata": {
        "id": "V0Rt7KAXHtyW"
      },
      "source": [
        ""
      ],
      "execution_count": null,
      "outputs": []
    }
  ]
}