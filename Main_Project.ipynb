{
  "nbformat": 4,
  "nbformat_minor": 0,
  "metadata": {
    "colab": {
      "name": "Main_Project.ipynb",
      "provenance": [],
      "authorship_tag": "ABX9TyOYUOcVJucgS7wumVbQg5Px",
      "include_colab_link": true
    },
    "kernelspec": {
      "name": "python3",
      "display_name": "Python 3"
    },
    "language_info": {
      "name": "python"
    }
  },
  "cells": [
    {
      "cell_type": "markdown",
      "metadata": {
        "id": "view-in-github",
        "colab_type": "text"
      },
      "source": [
        "<a href=\"https://colab.research.google.com/github/vishwanaik15/DataMining_Project/blob/main/Main_Project.ipynb\" target=\"_parent\"><img src=\"https://colab.research.google.com/assets/colab-badge.svg\" alt=\"Open In Colab\"/></a>"
      ]
    },
    {
      "cell_type": "code",
      "metadata": {
        "colab": {
          "base_uri": "https://localhost:8080/"
        },
        "id": "8dddF75JmUrr",
        "outputId": "6f7e6959-c3bc-4bed-d42b-1d75ec61aa46"
      },
      "source": [
        "import os\n",
        "import sys\n",
        "import re\n",
        "import numpy as np\n",
        "import seaborn as sb\n",
        "import pandas as pd\n",
        "import matplotlib.pyplot as plt\n",
        "from matplotlib.ticker import FuncFormatter\n",
        "from sklearn.model_selection import train_test_split\n",
        "from sklearn import feature_extraction, linear_model, model_selection,preprocessing\n",
        "from sklearn.pipeline import Pipeline\n",
        "from sklearn.feature_extraction.text import TfidfVectorizer, CountVectorizer, TfidfTransformer\n",
        "from sklearn.naive_bayes import MultinomialNB\n",
        "from sklearn.metrics import confusion_matrix,f1_score,recall_score,precision_score,classification_report\n",
        "from sklearn.feature_selection import chi2\n",
        "from sklearn.linear_model import LogisticRegression,Ridge,RidgeClassifier\n",
        "from sklearn.neighbors import KNeighborsClassifier\n",
        "from sklearn.svm import SVC,LinearSVC\n",
        "from sklearn.metrics import accuracy_score\n",
        "import time\n",
        "from time import sleep\n",
        "#nltk toolkit used for stopwords removing\n",
        "import nltk\n",
        "from nltk.corpus import stopwords\n",
        "from nltk import word_tokenize\n",
        "nltk.download('punkt')\n",
        "nltk.download(\"stopwords\")"
      ],
      "execution_count": 7,
      "outputs": [
        {
          "output_type": "stream",
          "text": [
            "[nltk_data] Downloading package punkt to /root/nltk_data...\n",
            "[nltk_data]   Package punkt is already up-to-date!\n",
            "[nltk_data] Downloading package stopwords to /root/nltk_data...\n",
            "[nltk_data]   Package stopwords is already up-to-date!\n"
          ],
          "name": "stdout"
        },
        {
          "output_type": "execute_result",
          "data": {
            "text/plain": [
              "True"
            ]
          },
          "metadata": {
            "tags": []
          },
          "execution_count": 7
        }
      ]
    },
    {
      "cell_type": "code",
      "metadata": {
        "colab": {
          "base_uri": "https://localhost:8080/"
        },
        "id": "0tkkt5DVmdUT",
        "outputId": "cf023a8a-6645-48df-859b-db0cb0f62115"
      },
      "source": [
        "from google.colab import drive\n",
        "drive.mount('/content/gdrive')"
      ],
      "execution_count": 8,
      "outputs": [
        {
          "output_type": "stream",
          "text": [
            "Drive already mounted at /content/gdrive; to attempt to forcibly remount, call drive.mount(\"/content/gdrive\", force_remount=True).\n"
          ],
          "name": "stdout"
        }
      ]
    },
    {
      "cell_type": "code",
      "metadata": {
        "id": "EJgVXrm0mhFW"
      },
      "source": [
        "os.chdir('/content/gdrive/My Drive/Data Mining/')"
      ],
      "execution_count": 9,
      "outputs": []
    },
    {
      "cell_type": "code",
      "metadata": {
        "colab": {
          "base_uri": "https://localhost:8080/",
          "height": 306
        },
        "id": "6w_57YRlmogZ",
        "outputId": "e67eb943-9667-45da-dac9-9532daddcb2d"
      },
      "source": [
        "dataset =  pd.read_csv(\"data.csv\",encoding='latin1',low_memory=False)\n",
        "print(\"Length of review data: \",len(dataset))\n",
        "dataset.head()"
      ],
      "execution_count": 10,
      "outputs": [
        {
          "output_type": "stream",
          "text": [
            "Length of review data:  1415138\n"
          ],
          "name": "stdout"
        },
        {
          "output_type": "execute_result",
          "data": {
            "text/html": [
              "<div>\n",
              "<style scoped>\n",
              "    .dataframe tbody tr th:only-of-type {\n",
              "        vertical-align: middle;\n",
              "    }\n",
              "\n",
              "    .dataframe tbody tr th {\n",
              "        vertical-align: top;\n",
              "    }\n",
              "\n",
              "    .dataframe thead th {\n",
              "        text-align: right;\n",
              "    }\n",
              "</style>\n",
              "<table border=\"1\" class=\"dataframe\">\n",
              "  <thead>\n",
              "    <tr style=\"text-align: right;\">\n",
              "      <th></th>\n",
              "      <th>phone_url</th>\n",
              "      <th>date</th>\n",
              "      <th>lang</th>\n",
              "      <th>country</th>\n",
              "      <th>source</th>\n",
              "      <th>domain</th>\n",
              "      <th>score</th>\n",
              "      <th>score_max</th>\n",
              "      <th>extract</th>\n",
              "      <th>author</th>\n",
              "      <th>product</th>\n",
              "    </tr>\n",
              "  </thead>\n",
              "  <tbody>\n",
              "    <tr>\n",
              "      <th>0</th>\n",
              "      <td>/cellphones/samsung-galaxy-s8/</td>\n",
              "      <td>5/2/2017</td>\n",
              "      <td>en</td>\n",
              "      <td>us</td>\n",
              "      <td>Verizon Wireless</td>\n",
              "      <td>verizonwireless.com</td>\n",
              "      <td>10</td>\n",
              "      <td>10</td>\n",
              "      <td>As a diehard Samsung fan who has had every Sam...</td>\n",
              "      <td>CarolAnn35</td>\n",
              "      <td>Samsung Galaxy S8</td>\n",
              "    </tr>\n",
              "    <tr>\n",
              "      <th>1</th>\n",
              "      <td>/cellphones/samsung-galaxy-s8/</td>\n",
              "      <td>4/28/2017</td>\n",
              "      <td>en</td>\n",
              "      <td>us</td>\n",
              "      <td>Phone Arena</td>\n",
              "      <td>phonearena.com</td>\n",
              "      <td>10</td>\n",
              "      <td>10</td>\n",
              "      <td>Love the phone. the phone is sleek and smooth ...</td>\n",
              "      <td>james0923</td>\n",
              "      <td>Samsung Galaxy S8</td>\n",
              "    </tr>\n",
              "    <tr>\n",
              "      <th>2</th>\n",
              "      <td>/cellphones/samsung-galaxy-s8/</td>\n",
              "      <td>5/4/2017</td>\n",
              "      <td>en</td>\n",
              "      <td>us</td>\n",
              "      <td>Amazon</td>\n",
              "      <td>amazon.com</td>\n",
              "      <td>6</td>\n",
              "      <td>10</td>\n",
              "      <td>Adequate feel. Nice heft. Processor's still sl...</td>\n",
              "      <td>R. Craig</td>\n",
              "      <td>Samsung Galaxy S8 (64GB) G950U 5.8\" 4G LTE Unl...</td>\n",
              "    </tr>\n",
              "    <tr>\n",
              "      <th>3</th>\n",
              "      <td>/cellphones/samsung-galaxy-s8/</td>\n",
              "      <td>5/2/2017</td>\n",
              "      <td>en</td>\n",
              "      <td>us</td>\n",
              "      <td>Samsung</td>\n",
              "      <td>samsung.com</td>\n",
              "      <td>9.2</td>\n",
              "      <td>10</td>\n",
              "      <td>Never disappointed. One of the reasons I've be...</td>\n",
              "      <td>Buster2020</td>\n",
              "      <td>Samsung Galaxy S8 64GB (AT&amp;T)</td>\n",
              "    </tr>\n",
              "    <tr>\n",
              "      <th>4</th>\n",
              "      <td>/cellphones/samsung-galaxy-s8/</td>\n",
              "      <td>5/11/2017</td>\n",
              "      <td>en</td>\n",
              "      <td>us</td>\n",
              "      <td>Verizon Wireless</td>\n",
              "      <td>verizonwireless.com</td>\n",
              "      <td>4</td>\n",
              "      <td>10</td>\n",
              "      <td>I've now found that i'm in a group of people t...</td>\n",
              "      <td>S Ate Mine</td>\n",
              "      <td>Samsung Galaxy S8</td>\n",
              "    </tr>\n",
              "  </tbody>\n",
              "</table>\n",
              "</div>"
            ],
            "text/plain": [
              "                        phone_url  ...                                            product\n",
              "0  /cellphones/samsung-galaxy-s8/  ...                                  Samsung Galaxy S8\n",
              "1  /cellphones/samsung-galaxy-s8/  ...                                  Samsung Galaxy S8\n",
              "2  /cellphones/samsung-galaxy-s8/  ...  Samsung Galaxy S8 (64GB) G950U 5.8\" 4G LTE Unl...\n",
              "3  /cellphones/samsung-galaxy-s8/  ...                      Samsung Galaxy S8 64GB (AT&T)\n",
              "4  /cellphones/samsung-galaxy-s8/  ...                                  Samsung Galaxy S8\n",
              "\n",
              "[5 rows x 11 columns]"
            ]
          },
          "metadata": {
            "tags": []
          },
          "execution_count": 10
        }
      ]
    },
    {
      "cell_type": "code",
      "metadata": {
        "colab": {
          "base_uri": "https://localhost:8080/"
        },
        "id": "PGQKCcDimraT",
        "outputId": "3d6f52f1-ebd8-4428-c216-ef7cad215a96"
      },
      "source": [
        "# counting total NaN values in each column\n",
        "dataset.isna().sum()"
      ],
      "execution_count": 11,
      "outputs": [
        {
          "output_type": "execute_result",
          "data": {
            "text/plain": [
              "phone_url        0\n",
              "date             0\n",
              "lang             0\n",
              "country          0\n",
              "source           0\n",
              "domain           0\n",
              "score        63489\n",
              "score_max    63489\n",
              "extract      19361\n",
              "author       63202\n",
              "product          1\n",
              "dtype: int64"
            ]
          },
          "metadata": {
            "tags": []
          },
          "execution_count": 11
        }
      ]
    },
    {
      "cell_type": "code",
      "metadata": {
        "colab": {
          "base_uri": "https://localhost:8080/",
          "height": 619
        },
        "id": "1V4jD9-YsmLu",
        "outputId": "260bc657-73fe-4eac-dbb2-7313bd2091e4"
      },
      "source": [
        "# this chart represents top 50 rated words from dataframe \n",
        "plt.figure(figsize=(18, 7))\n",
        "dataset['product'].value_counts()[:10].plot(kind='bar')\n",
        "plt.ylabel('Count of Rating')\n",
        "plt.title('Top 10 Rated Mobile')\n",
        "plt.show()"
      ],
      "execution_count": 12,
      "outputs": [
        {
          "output_type": "display_data",
          "data": {
            "image/png": "[encoded data removed]",
            "text/plain": [
              "<Figure size 1296x504 with 1 Axes>"
            ]
          },
          "metadata": {
            "tags": [],
            "needs_background": "light"
          }
        }
      ]
    },
    {
      "cell_type": "code",
      "metadata": {
        "colab": {
          "base_uri": "https://localhost:8080/",
          "height": 238
        },
        "id": "DMfizKv3t2Z1",
        "outputId": "a8b9a8b4-f7de-4e58-9384-f76ffc54f6c7"
      },
      "source": [
        "dataset = dataset[['extract','score']]\n",
        "#removing missing values from dataframe\n",
        "dataset.dropna(inplace=True)\n",
        "print(\"Length of dataset after removing missing values: \",len(dataset))\n",
        "print('')\n",
        "dataset.head()"
      ],
      "execution_count": 13,
      "outputs": [
        {
          "output_type": "stream",
          "text": [
            "Length of dataset after removing missing values:  1332704\n",
            "\n"
          ],
          "name": "stdout"
        },
        {
          "output_type": "execute_result",
          "data": {
            "text/html": [
              "<div>\n",
              "<style scoped>\n",
              "    .dataframe tbody tr th:only-of-type {\n",
              "        vertical-align: middle;\n",
              "    }\n",
              "\n",
              "    .dataframe tbody tr th {\n",
              "        vertical-align: top;\n",
              "    }\n",
              "\n",
              "    .dataframe thead th {\n",
              "        text-align: right;\n",
              "    }\n",
              "</style>\n",
              "<table border=\"1\" class=\"dataframe\">\n",
              "  <thead>\n",
              "    <tr style=\"text-align: right;\">\n",
              "      <th></th>\n",
              "      <th>extract</th>\n",
              "      <th>score</th>\n",
              "    </tr>\n",
              "  </thead>\n",
              "  <tbody>\n",
              "    <tr>\n",
              "      <th>0</th>\n",
              "      <td>As a diehard Samsung fan who has had every Sam...</td>\n",
              "      <td>10</td>\n",
              "    </tr>\n",
              "    <tr>\n",
              "      <th>1</th>\n",
              "      <td>Love the phone. the phone is sleek and smooth ...</td>\n",
              "      <td>10</td>\n",
              "    </tr>\n",
              "    <tr>\n",
              "      <th>2</th>\n",
              "      <td>Adequate feel. Nice heft. Processor's still sl...</td>\n",
              "      <td>6</td>\n",
              "    </tr>\n",
              "    <tr>\n",
              "      <th>3</th>\n",
              "      <td>Never disappointed. One of the reasons I've be...</td>\n",
              "      <td>9.2</td>\n",
              "    </tr>\n",
              "    <tr>\n",
              "      <th>4</th>\n",
              "      <td>I've now found that i'm in a group of people t...</td>\n",
              "      <td>4</td>\n",
              "    </tr>\n",
              "  </tbody>\n",
              "</table>\n",
              "</div>"
            ],
            "text/plain": [
              "                                             extract score\n",
              "0  As a diehard Samsung fan who has had every Sam...    10\n",
              "1  Love the phone. the phone is sleek and smooth ...    10\n",
              "2  Adequate feel. Nice heft. Processor's still sl...     6\n",
              "3  Never disappointed. One of the reasons I've be...   9.2\n",
              "4  I've now found that i'm in a group of people t...     4"
            ]
          },
          "metadata": {
            "tags": []
          },
          "execution_count": 13
        }
      ]
    },
    {
      "cell_type": "code",
      "metadata": {
        "colab": {
          "base_uri": "https://localhost:8080/",
          "height": 204
        },
        "id": "-mXuoAhNuJwm",
        "outputId": "5f8c6272-543d-4115-fa40-20c80f75f7d8"
      },
      "source": [
        "#tokenization of comments column and removing punctuation\n",
        "from nltk.tokenize import RegexpTokenizer\n",
        "#this regular expression tokenize words in comma separated form\n",
        "tokenizer = RegexpTokenizer(r'\\w+')\n",
        "dataset['extract'] = dataset['extract'].apply(lambda x: tokenizer.tokenize(x.lower()))\n",
        "dataset.head()"
      ],
      "execution_count": 14,
      "outputs": [
        {
          "output_type": "execute_result",
          "data": {
            "text/html": [
              "<div>\n",
              "<style scoped>\n",
              "    .dataframe tbody tr th:only-of-type {\n",
              "        vertical-align: middle;\n",
              "    }\n",
              "\n",
              "    .dataframe tbody tr th {\n",
              "        vertical-align: top;\n",
              "    }\n",
              "\n",
              "    .dataframe thead th {\n",
              "        text-align: right;\n",
              "    }\n",
              "</style>\n",
              "<table border=\"1\" class=\"dataframe\">\n",
              "  <thead>\n",
              "    <tr style=\"text-align: right;\">\n",
              "      <th></th>\n",
              "      <th>extract</th>\n",
              "      <th>score</th>\n",
              "    </tr>\n",
              "  </thead>\n",
              "  <tbody>\n",
              "    <tr>\n",
              "      <th>0</th>\n",
              "      <td>[as, a, diehard, samsung, fan, who, has, had, ...</td>\n",
              "      <td>10</td>\n",
              "    </tr>\n",
              "    <tr>\n",
              "      <th>1</th>\n",
              "      <td>[love, the, phone, the, phone, is, sleek, and,...</td>\n",
              "      <td>10</td>\n",
              "    </tr>\n",
              "    <tr>\n",
              "      <th>2</th>\n",
              "      <td>[adequate, feel, nice, heft, processor, s, sti...</td>\n",
              "      <td>6</td>\n",
              "    </tr>\n",
              "    <tr>\n",
              "      <th>3</th>\n",
              "      <td>[never, disappointed, one, of, the, reasons, i...</td>\n",
              "      <td>9.2</td>\n",
              "    </tr>\n",
              "    <tr>\n",
              "      <th>4</th>\n",
              "      <td>[i, ve, now, found, that, i, m, in, a, group, ...</td>\n",
              "      <td>4</td>\n",
              "    </tr>\n",
              "  </tbody>\n",
              "</table>\n",
              "</div>"
            ],
            "text/plain": [
              "                                             extract score\n",
              "0  [as, a, diehard, samsung, fan, who, has, had, ...    10\n",
              "1  [love, the, phone, the, phone, is, sleek, and,...    10\n",
              "2  [adequate, feel, nice, heft, processor, s, sti...     6\n",
              "3  [never, disappointed, one, of, the, reasons, i...   9.2\n",
              "4  [i, ve, now, found, that, i, m, in, a, group, ...     4"
            ]
          },
          "metadata": {
            "tags": []
          },
          "execution_count": 14
        }
      ]
    },
    {
      "cell_type": "code",
      "metadata": {
        "colab": {
          "base_uri": "https://localhost:8080/",
          "height": 359
        },
        "id": "JL7PrfdJuV4-",
        "outputId": "20adc89c-0273-4634-ac56-3689ef29b40d"
      },
      "source": [
        "#removing stop words from comments \n",
        "stops = set(stopwords.words(\"english\"))\n",
        "dataset['extract'] = dataset['extract'].apply(lambda x: [item for item in x if item not in stops])\n",
        "dataset.head(10)"
      ],
      "execution_count": 15,
      "outputs": [
        {
          "output_type": "execute_result",
          "data": {
            "text/html": [
              "<div>\n",
              "<style scoped>\n",
              "    .dataframe tbody tr th:only-of-type {\n",
              "        vertical-align: middle;\n",
              "    }\n",
              "\n",
              "    .dataframe tbody tr th {\n",
              "        vertical-align: top;\n",
              "    }\n",
              "\n",
              "    .dataframe thead th {\n",
              "        text-align: right;\n",
              "    }\n",
              "</style>\n",
              "<table border=\"1\" class=\"dataframe\">\n",
              "  <thead>\n",
              "    <tr style=\"text-align: right;\">\n",
              "      <th></th>\n",
              "      <th>extract</th>\n",
              "      <th>score</th>\n",
              "    </tr>\n",
              "  </thead>\n",
              "  <tbody>\n",
              "    <tr>\n",
              "      <th>0</th>\n",
              "      <td>[diehard, samsung, fan, every, samsung, phone,...</td>\n",
              "      <td>10</td>\n",
              "    </tr>\n",
              "    <tr>\n",
              "      <th>1</th>\n",
              "      <td>[love, phone, phone, sleek, smooth, beautiful,...</td>\n",
              "      <td>10</td>\n",
              "    </tr>\n",
              "    <tr>\n",
              "      <th>2</th>\n",
              "      <td>[adequate, feel, nice, heft, processor, still,...</td>\n",
              "      <td>6</td>\n",
              "    </tr>\n",
              "    <tr>\n",
              "      <th>3</th>\n",
              "      <td>[never, disappointed, one, reasons, long, sams...</td>\n",
              "      <td>9.2</td>\n",
              "    </tr>\n",
              "    <tr>\n",
              "      <th>4</th>\n",
              "      <td>[found, group, people, carried, phone, pocket,...</td>\n",
              "      <td>4</td>\n",
              "    </tr>\n",
              "    <tr>\n",
              "      <th>5</th>\n",
              "      <td>[type, person, never, would, completely, sold,...</td>\n",
              "      <td>10</td>\n",
              "    </tr>\n",
              "    <tr>\n",
              "      <th>6</th>\n",
              "      <td>[way, samsung, s8, phone, operates, cumbersome...</td>\n",
              "      <td>4</td>\n",
              "    </tr>\n",
              "    <tr>\n",
              "      <th>7</th>\n",
              "      <td>[bought, phone, excited, use, agree, reviews, ...</td>\n",
              "      <td>6</td>\n",
              "    </tr>\n",
              "    <tr>\n",
              "      <th>8</th>\n",
              "      <td>[extremely, advanced, truly, smart, phone, gre...</td>\n",
              "      <td>6</td>\n",
              "    </tr>\n",
              "    <tr>\n",
              "      <th>9</th>\n",
              "      <td>[great, phone, phenomenal, camera, hard, get, ...</td>\n",
              "      <td>8</td>\n",
              "    </tr>\n",
              "  </tbody>\n",
              "</table>\n",
              "</div>"
            ],
            "text/plain": [
              "                                             extract score\n",
              "0  [diehard, samsung, fan, every, samsung, phone,...    10\n",
              "1  [love, phone, phone, sleek, smooth, beautiful,...    10\n",
              "2  [adequate, feel, nice, heft, processor, still,...     6\n",
              "3  [never, disappointed, one, reasons, long, sams...   9.2\n",
              "4  [found, group, people, carried, phone, pocket,...     4\n",
              "5  [type, person, never, would, completely, sold,...    10\n",
              "6  [way, samsung, s8, phone, operates, cumbersome...     4\n",
              "7  [bought, phone, excited, use, agree, reviews, ...     6\n",
              "8  [extremely, advanced, truly, smart, phone, gre...     6\n",
              "9  [great, phone, phenomenal, camera, hard, get, ...     8"
            ]
          },
          "metadata": {
            "tags": []
          },
          "execution_count": 15
        }
      ]
    },
    {
      "cell_type": "code",
      "metadata": {
        "id": "rRqaWrwtuhf1"
      },
      "source": [
        "#joining all tokens to proceed further for data modeling\n",
        "dataset['extract'] = dataset['extract'].apply(' '.join)"
      ],
      "execution_count": 16,
      "outputs": []
    },
    {
      "cell_type": "code",
      "metadata": {
        "colab": {
          "base_uri": "https://localhost:8080/",
          "height": 204
        },
        "id": "MFQSrj4OupFR",
        "outputId": "c4a2537f-aa1f-4f04-be77-96e78129ae1d"
      },
      "source": [
        "dataset.head()"
      ],
      "execution_count": 17,
      "outputs": [
        {
          "output_type": "execute_result",
          "data": {
            "text/html": [
              "<div>\n",
              "<style scoped>\n",
              "    .dataframe tbody tr th:only-of-type {\n",
              "        vertical-align: middle;\n",
              "    }\n",
              "\n",
              "    .dataframe tbody tr th {\n",
              "        vertical-align: top;\n",
              "    }\n",
              "\n",
              "    .dataframe thead th {\n",
              "        text-align: right;\n",
              "    }\n",
              "</style>\n",
              "<table border=\"1\" class=\"dataframe\">\n",
              "  <thead>\n",
              "    <tr style=\"text-align: right;\">\n",
              "      <th></th>\n",
              "      <th>extract</th>\n",
              "      <th>score</th>\n",
              "    </tr>\n",
              "  </thead>\n",
              "  <tbody>\n",
              "    <tr>\n",
              "      <th>0</th>\n",
              "      <td>diehard samsung fan every samsung phone since ...</td>\n",
              "      <td>10</td>\n",
              "    </tr>\n",
              "    <tr>\n",
              "      <th>1</th>\n",
              "      <td>love phone phone sleek smooth beautiful highly...</td>\n",
              "      <td>10</td>\n",
              "    </tr>\n",
              "    <tr>\n",
              "      <th>2</th>\n",
              "      <td>adequate feel nice heft processor still sluggi...</td>\n",
              "      <td>6</td>\n",
              "    </tr>\n",
              "    <tr>\n",
              "      <th>3</th>\n",
              "      <td>never disappointed one reasons long samsung pr...</td>\n",
              "      <td>9.2</td>\n",
              "    </tr>\n",
              "    <tr>\n",
              "      <th>4</th>\n",
              "      <td>found group people carried phone pocket withou...</td>\n",
              "      <td>4</td>\n",
              "    </tr>\n",
              "  </tbody>\n",
              "</table>\n",
              "</div>"
            ],
            "text/plain": [
              "                                             extract score\n",
              "0  diehard samsung fan every samsung phone since ...    10\n",
              "1  love phone phone sleek smooth beautiful highly...    10\n",
              "2  adequate feel nice heft processor still sluggi...     6\n",
              "3  never disappointed one reasons long samsung pr...   9.2\n",
              "4  found group people carried phone pocket withou...     4"
            ]
          },
          "metadata": {
            "tags": []
          },
          "execution_count": 17
        }
      ]
    },
    {
      "cell_type": "code",
      "metadata": {
        "id": "i-HLt-zCu8P8"
      },
      "source": [
        "def extract_data(dataset):\n",
        "    x = pd.read_csv(dataset,engine='python')\n",
        "    x = x[x['lang'] == 'en']\n",
        "    x.reset_index(inplace=True)\n",
        "    return x[['score','extract','product']]\n",
        "dataset = extract_data('data.csv')"
      ],
      "execution_count": 18,
      "outputs": []
    },
    {
      "cell_type": "code",
      "metadata": {
        "colab": {
          "base_uri": "https://localhost:8080/"
        },
        "id": "wnlUkTF-vLlW",
        "outputId": "ce4cd3b0-8e51-4eb9-d53d-d3efa104a8ec"
      },
      "source": [
        "dataset.dropna(inplace=True)\n",
        "np.unique(dataset.score)"
      ],
      "execution_count": 19,
      "outputs": [
        {
          "output_type": "execute_result",
          "data": {
            "text/plain": [
              "array(['1', '1.2', '1.3', '1.4', '1.6', '1.7', '1.8', '10', '2', '2.2',\n",
              "       '2.3', '2.4', '2.6', '2.7', '2.8', '3', '3.2', '3.3', '3.4', '3.6',\n",
              "       '3.7', '3.8', '4', '4.2', '4.3', '4.4', '4.6', '4.7', '4.8', '5',\n",
              "       '5.2', '5.3', '5.4', '5.6', '5.7', '5.8', '5.9', '6', '6.2', '6.3',\n",
              "       '6.4', '6.6', '6.7', '6.8', '7', '7.1', '7.2', '7.3', '7.4', '7.5',\n",
              "       '7.6', '7.7', '7.8', '7.9', '8', '8.1', '8.2', '8.3', '8.4', '8.5',\n",
              "       '8.6', '8.7', '8.8', '8.9', '9', '9.1', '9.2', '9.3', '9.4', '9.5',\n",
              "       '9.6', '9.7', '9.8'], dtype=object)"
            ]
          },
          "metadata": {
            "tags": []
          },
          "execution_count": 19
        }
      ]
    },
    {
      "cell_type": "code",
      "metadata": {
        "id": "dT0kZVH-vQ8x"
      },
      "source": [
        "def apply_trans(p):\n",
        "    if p >= 1. and p < 2.:\n",
        "        return 1\n",
        "    elif p >= 2. and p < 3.:\n",
        "        return 2\n",
        "    elif p >= 3. and p < 4.:\n",
        "        return 3\n",
        "    elif p >= 4. and p < 5.:\n",
        "        return 4\n",
        "    elif p >= 5. and p < 6.:\n",
        "        return 5\n",
        "    elif p >= 6. and p < 7.:\n",
        "        return 6\n",
        "    elif p >= 7. and p < 8.:\n",
        "        return 7\n",
        "    elif p >= 8. and p < 9.:\n",
        "        return 8\n",
        "    elif p >= 9. and p < 10.:\n",
        "        return 9\n",
        "    else:\n",
        "        return 10\n",
        "        \n",
        "dataset['score'] = dataset['score'].apply(lambda x :apply_trans(float(x)))\n",
        "dataset.reset_index(inplace=True)"
      ],
      "execution_count": 20,
      "outputs": []
    },
    {
      "cell_type": "code",
      "metadata": {
        "colab": {
          "base_uri": "https://localhost:8080/",
          "height": 404
        },
        "id": "Hbp6MUtruvFU",
        "outputId": "d59a4f03-1413-4ff6-bead-09b570a557c0"
      },
      "source": [
        "#histogram representing how much time each ratings occur\n",
        "fig = plt.figure(figsize=(9,6))\n",
        "n, bins, patches = plt.hist(dataset.score, bins=40, facecolor='blue',alpha = 1)\n",
        "plt.xlabel('Rating')\n",
        "plt.ylabel('Counts')\n",
        "plt.title('Occurrence of each rating in preprocessed data')\n",
        "fig.patch.set_facecolor('white')\n",
        "plt.show()\n",
        "# width of bars are defined using value of bin"
      ],
      "execution_count": 21,
      "outputs": [
        {
          "output_type": "display_data",
          "data": {
            "image/png": "[encoded data removed]",
            "text/plain": [
              "<Figure size 648x432 with 1 Axes>"
            ]
          },
          "metadata": {
            "tags": []
          }
        }
      ]
    },
    {
      "cell_type": "code",
      "metadata": {
        "colab": {
          "base_uri": "https://localhost:8080/"
        },
        "id": "ZH4WYTa9u6Wy",
        "outputId": "b0bb1f29-8379-48c7-a258-59d7b27f7ba1"
      },
      "source": [
        "#average value of all the ratings \n",
        "print(\"Average rating: \",dataset['score'].mean())\n",
        "#median value of ratings values\n",
        "print(\"Median value: \",dataset['score'].median())"
      ],
      "execution_count": 22,
      "outputs": [
        {
          "output_type": "stream",
          "text": [
            "Average rating:  7.665067910469653\n",
            "Median value:  8.0\n"
          ],
          "name": "stdout"
        }
      ]
    },
    {
      "cell_type": "code",
      "metadata": {
        "colab": {
          "base_uri": "https://localhost:8080/",
          "height": 204
        },
        "id": "UQzpLxt1wpW_",
        "outputId": "7bc9e289-7c19-4e4a-9689-1aa165edd216"
      },
      "source": [
        "dataset.head()"
      ],
      "execution_count": 23,
      "outputs": [
        {
          "output_type": "execute_result",
          "data": {
            "text/html": [
              "<div>\n",
              "<style scoped>\n",
              "    .dataframe tbody tr th:only-of-type {\n",
              "        vertical-align: middle;\n",
              "    }\n",
              "\n",
              "    .dataframe tbody tr th {\n",
              "        vertical-align: top;\n",
              "    }\n",
              "\n",
              "    .dataframe thead th {\n",
              "        text-align: right;\n",
              "    }\n",
              "</style>\n",
              "<table border=\"1\" class=\"dataframe\">\n",
              "  <thead>\n",
              "    <tr style=\"text-align: right;\">\n",
              "      <th></th>\n",
              "      <th>index</th>\n",
              "      <th>score</th>\n",
              "      <th>extract</th>\n",
              "      <th>product</th>\n",
              "    </tr>\n",
              "  </thead>\n",
              "  <tbody>\n",
              "    <tr>\n",
              "      <th>0</th>\n",
              "      <td>0</td>\n",
              "      <td>10</td>\n",
              "      <td>As a diehard Samsung fan who has had every Sam...</td>\n",
              "      <td>Samsung Galaxy S8</td>\n",
              "    </tr>\n",
              "    <tr>\n",
              "      <th>1</th>\n",
              "      <td>1</td>\n",
              "      <td>10</td>\n",
              "      <td>Love the phone. the phone is sleek and smooth ...</td>\n",
              "      <td>Samsung Galaxy S8</td>\n",
              "    </tr>\n",
              "    <tr>\n",
              "      <th>2</th>\n",
              "      <td>2</td>\n",
              "      <td>6</td>\n",
              "      <td>Adequate feel. Nice heft. Processor's still sl...</td>\n",
              "      <td>Samsung Galaxy S8 (64GB) G950U 5.8\" 4G LTE Unl...</td>\n",
              "    </tr>\n",
              "    <tr>\n",
              "      <th>3</th>\n",
              "      <td>3</td>\n",
              "      <td>9</td>\n",
              "      <td>Never disappointed. One of the reasons I've be...</td>\n",
              "      <td>Samsung Galaxy S8 64GB (AT&amp;T)</td>\n",
              "    </tr>\n",
              "    <tr>\n",
              "      <th>4</th>\n",
              "      <td>4</td>\n",
              "      <td>4</td>\n",
              "      <td>I've now found that i'm in a group of people t...</td>\n",
              "      <td>Samsung Galaxy S8</td>\n",
              "    </tr>\n",
              "  </tbody>\n",
              "</table>\n",
              "</div>"
            ],
            "text/plain": [
              "   index  ...                                            product\n",
              "0      0  ...                                  Samsung Galaxy S8\n",
              "1      1  ...                                  Samsung Galaxy S8\n",
              "2      2  ...  Samsung Galaxy S8 (64GB) G950U 5.8\" 4G LTE Unl...\n",
              "3      3  ...                      Samsung Galaxy S8 64GB (AT&T)\n",
              "4      4  ...                                  Samsung Galaxy S8\n",
              "\n",
              "[5 rows x 4 columns]"
            ]
          },
          "metadata": {
            "tags": []
          },
          "execution_count": 23
        }
      ]
    },
    {
      "cell_type": "code",
      "metadata": {
        "id": "7naNOEGaxiWD"
      },
      "source": [
        "#selecting chunk of data (if you want) from whole dataframe for further model training and testing\n",
        "new_dataset = dataset"
      ],
      "execution_count": 24,
      "outputs": []
    },
    {
      "cell_type": "code",
      "metadata": {
        "id": "Meq-hVC_ym3d"
      },
      "source": [
        "new_dataset['score'] =np.round(new_dataset['score'])"
      ],
      "execution_count": 25,
      "outputs": []
    },
    {
      "cell_type": "code",
      "metadata": {
        "colab": {
          "base_uri": "https://localhost:8080/"
        },
        "id": "Go3hUJ4GyvOc",
        "outputId": "f4dc0b51-ded0-4616-9cce-343b4a648dfd"
      },
      "source": [
        "#occurance of each rating in the column\n",
        "new_dataset['score'].value_counts()"
      ],
      "execution_count": 26,
      "outputs": [
        {
          "output_type": "execute_result",
          "data": {
            "text/plain": [
              "10    253010\n",
              "8     107438\n",
              "2      75124\n",
              "6      48205\n",
              "4      32199\n",
              "9      18852\n",
              "7       4846\n",
              "5       2663\n",
              "1       1666\n",
              "3       1421\n",
              "Name: score, dtype: int64"
            ]
          },
          "metadata": {
            "tags": []
          },
          "execution_count": 26
        }
      ]
    },
    {
      "cell_type": "code",
      "metadata": {
        "id": "iQ_6nRr1yzMq"
      },
      "source": [
        "#splitting dataset in to four parts randomly\n",
        "X_train, X_test, y_train, y_test = train_test_split(new_dataset['extract'], new_dataset['score'], test_size=0.2) # 80% training and 20% test"
      ],
      "execution_count": 27,
      "outputs": []
    },
    {
      "cell_type": "code",
      "metadata": {
        "id": "P2bvOKNXzKpL"
      },
      "source": [
        "#vectorizing our data\n",
        "#Convert a collection of raw documents to a matrix of TF-IDF features\n",
        "vectorizer = TfidfVectorizer()\n",
        "transformer = TfidfTransformer()\n",
        "\n",
        "X_train = vectorizer.fit_transform(X_train)\n",
        "X_test = vectorizer.transform(X_test)\n",
        "\n",
        "X_train_counts = transformer.fit_transform(X_train)\n",
        "X_test_counts = transformer.fit_transform(X_test)"
      ],
      "execution_count": 28,
      "outputs": []
    },
    {
      "cell_type": "code",
      "metadata": {
        "colab": {
          "base_uri": "https://localhost:8080/"
        },
        "id": "nBWpZGMSzNwm",
        "outputId": "df1cb1d3-dc0e-4a17-cb60-cca06443d4dc"
      },
      "source": [
        "model_mNB = MultinomialNB().fit(X_train_counts, y_train.astype('int'))\n",
        "y_predicted_mNB = model_mNB.predict(X_test_counts)\n",
        "\n",
        "accuracy = accuracy_score(y_test.astype('int'),y_predicted_mNB) * float(100)\n",
        "accuracy_mNB = str(accuracy)\n",
        "print('Testing Accuracy on multinomial naive bayes model is: '+accuracy_mNB+' %')"
      ],
      "execution_count": 29,
      "outputs": [
        {
          "output_type": "stream",
          "text": [
            "Testing Accuracy on multinomial naive bayes model is: 53.46747948847229 %\n"
          ],
          "name": "stdout"
        }
      ]
    },
    {
      "cell_type": "code",
      "metadata": {
        "colab": {
          "base_uri": "https://localhost:8080/",
          "height": 545
        },
        "id": "yZoOcH-PzWp1",
        "outputId": "127ab1a3-c9d6-4595-ec74-fb43fd32d75a"
      },
      "source": [
        "#confusion matrix for what output we got\n",
        "print(\"Confusion matrix for Multinomial Naive Bayes classifier:\\n\")\n",
        "fig= plt.figure(figsize=(10,6))\n",
        "ax = fig.add_axes([1,1,1,1])\n",
        "matrix = confusion_matrix(y_test.astype('int'), y_predicted_mNB)\n",
        "sb.heatmap(matrix/np.sum(matrix), square=True, annot=True)\n",
        "ax.set_xlabel('Actual rating')\n",
        "ax.set_ylabel('Predicted rating')"
      ],
      "execution_count": 30,
      "outputs": [
        {
          "output_type": "stream",
          "text": [
            "Confusion matrix for Multinomial Naive Bayes classifier:\n",
            "\n"
          ],
          "name": "stdout"
        },
        {
          "output_type": "execute_result",
          "data": {
            "text/plain": [
              "Text(842.9999999999998, 0.5, 'Predicted rating')"
            ]
          },
          "metadata": {
            "tags": []
          },
          "execution_count": 30
        },
        {
          "output_type": "display_data",
          "data": {
            "image/png": "[encoded data removed]",
            "text/plain": [
              "<Figure size 720x432 with 2 Axes>"
            ]
          },
          "metadata": {
            "tags": [],
            "needs_background": "light"
          }
        }
      ]
    },
    {
      "cell_type": "code",
      "metadata": {
        "colab": {
          "base_uri": "https://localhost:8080/"
        },
        "id": "nLLJaHuGzZbT",
        "outputId": "2295a721-3184-4ad9-9386-ed174bf26ada"
      },
      "source": [
        "model_ridge_class = RidgeClassifier().fit(X_train_counts, y_train.astype('int'))\n",
        "y_predicted = model_ridge_class.predict(X_test_counts)\n",
        "y_predicted_ridge_class = np.round(y_predicted)\n",
        "accuracy = accuracy_score(y_test,y_predicted_ridge_class) * float(100)\n",
        "ridge_class_accuracy = str(accuracy)\n",
        "print('Testing Accuracy on ridge classifier model is: '+ridge_class_accuracy+' %')"
      ],
      "execution_count": 31,
      "outputs": [
        {
          "output_type": "stream",
          "text": [
            "Testing Accuracy on ridge classifier model is: 57.25993491314113 %\n"
          ],
          "name": "stdout"
        }
      ]
    },
    {
      "cell_type": "code",
      "metadata": {
        "colab": {
          "base_uri": "https://localhost:8080/",
          "height": 545
        },
        "id": "oj-8Pg2uzkj1",
        "outputId": "72c2aef6-04df-4f20-98df-3b1ff5125996"
      },
      "source": [
        "print(\"Confusion matrix for Ridge Classifier:\\n\")\n",
        "fig= plt.figure(figsize=(10,6))\n",
        "ax = fig.add_axes([1,1,1,1])\n",
        "matrix = confusion_matrix(y_test.astype('int'), y_predicted_ridge_class)\n",
        "sb.heatmap(matrix/np.sum(matrix), square=True, annot=True, cmap=\"Blues\")\n",
        "ax.set_xlabel('Actual rating')\n",
        "ax.set_ylabel('Predicted rating')"
      ],
      "execution_count": 32,
      "outputs": [
        {
          "output_type": "stream",
          "text": [
            "Confusion matrix for Ridge Classifier:\n",
            "\n"
          ],
          "name": "stdout"
        },
        {
          "output_type": "execute_result",
          "data": {
            "text/plain": [
              "Text(842.9999999999998, 0.5, 'Predicted rating')"
            ]
          },
          "metadata": {
            "tags": []
          },
          "execution_count": 32
        },
        {
          "output_type": "display_data",
          "data": {
            "image/png": "[encoded data removed]",
            "text/plain": [
              "<Figure size 720x432 with 2 Axes>"
            ]
          },
          "metadata": {
            "tags": [],
            "needs_background": "light"
          }
        }
      ]
    },
    {
      "cell_type": "code",
      "metadata": {
        "colab": {
          "base_uri": "https://localhost:8080/"
        },
        "id": "51fKzx320DLD",
        "outputId": "72d6f51e-790b-450a-8b0c-0b86ee3c6fdf"
      },
      "source": [
        "#well this is fun part. \n",
        "#input your string at smt value and get rating for that.\n",
        "#here you can test rating for your desired review\n",
        "smt = \"Phone with not so good review\"\n",
        "smt=[smt]\n",
        "smt = vectorizer.transform(smt)\n",
        "smt = transformer.fit_transform(smt)\n",
        "prediction = np.round(model_ridge_class.predict(smt))\n",
        "print(prediction)"
      ],
      "execution_count": 33,
      "outputs": [
        {
          "output_type": "stream",
          "text": [
            "[2]\n"
          ],
          "name": "stdout"
        }
      ]
    },
    {
      "cell_type": "code",
      "metadata": {
        "id": "EdSMKekv0K0Y"
      },
      "source": [
        "samall_dataset = new_dataset.sample(n=30000)\n",
        "samall_dataset['rating'] =np.round(samall_dataset['score'])\n",
        "X_train_small, X_test_small, y_train_small, y_test_small = train_test_split(samall_dataset['extract'], samall_dataset['score'], test_size=0.2) # 80% training and 20% test"
      ],
      "execution_count": 34,
      "outputs": []
    },
    {
      "cell_type": "code",
      "metadata": {
        "colab": {
          "base_uri": "https://localhost:8080/",
          "height": 404
        },
        "id": "4qYe-MTP0VpR",
        "outputId": "b78bdb23-bbd9-4c7d-c3e0-73b489444c21"
      },
      "source": [
        "#histogram representing how much time each ratings occur\n",
        "fig = plt.figure(figsize=(9,6))\n",
        "n, bins, patches = plt.hist(samall_dataset.score, bins=40, facecolor='blue',alpha = 1)\n",
        "plt.xlabel('Rating')\n",
        "plt.ylabel('Counts')\n",
        "plt.title('Occurrence of each rating in this small data')\n",
        "fig.patch.set_facecolor('white')\n",
        "plt.show()\n",
        "# width of bars are defined using value of bin"
      ],
      "execution_count": 35,
      "outputs": [
        {
          "output_type": "display_data",
          "data": {
            "image/png": "[encoded data removed]",
            "text/plain": [
              "<Figure size 648x432 with 1 Axes>"
            ]
          },
          "metadata": {
            "tags": []
          }
        }
      ]
    },
    {
      "cell_type": "code",
      "metadata": {
        "id": "mK3Aol5u2haC"
      },
      "source": [
        "#vectorizing our data\n",
        "vect = TfidfVectorizer()\n",
        "trans = TfidfTransformer()\n",
        "\n",
        "X_train_small = vect.fit_transform(X_train_small)\n",
        "X_test_small = vect.transform(X_test_small)\n",
        "\n",
        "X_train_small = trans.fit_transform(X_train_small)\n",
        "X_test_small = trans.fit_transform(X_test_small)\n",
        "#model_SVM = Pipeline([\n",
        "#    ('Tfidf_vectorizer', TfidfVectorizer()), \n",
        "#    ('Tfidf_transformer',  TfidfTransformer()), \n",
        "#    ('classifier', SVC(kernel=\"linear\"))])  #this kernel=linear argument states that decision boundary to separate data is straight line"
      ],
      "execution_count": 36,
      "outputs": []
    },
    {
      "cell_type": "code",
      "metadata": {
        "id": "UWHF_VwU2mht"
      },
      "source": [
        "model_SVC = SVC(kernel=\"linear\",probability=True).fit(X_train_small,y_train_small.astype('int'))\n",
        "#this kernel=linear argument states that decision boundary to separate data is straight line\n",
        "y_predicted_SVC = model_SVC.predict(X_test_small)\n",
        "accuracy = accuracy_score(y_test_small.astype('int'),y_predicted_SVC) * float(100)\n",
        "accuracy_svc = str(accuracy)\n",
        "print('Testing Accuracy is: '+accuracy_svc+' %')"
      ],
      "execution_count": null,
      "outputs": []
    },
    {
      "cell_type": "code",
      "metadata": {
        "id": "Hq35s84L2rR7"
      },
      "source": [
        "  print(\"Confusion matrix for Support vector machine:\\n\")\n",
        "fig= plt.figure(figsize=(8,6))\n",
        "ax = fig.add_axes([1,1,1,1])\n",
        "matrix = confusion_matrix(y_test_small.astype('int'), y_predicted_SVC)\n",
        "sb.heatmap(matrix/np.sum(matrix), square=True, annot=True, cmap=\"Greys\")\n",
        "ax.set_xlabel('Actual rating')\n",
        "ax.set_ylabel('Predicted rating')"
      ],
      "execution_count": null,
      "outputs": []
    },
    {
      "cell_type": "code",
      "metadata": {
        "id": "jtzTu3Hm20xL"
      },
      "source": [
        "model_linear_SVC = LinearSVC().fit(X_train_small,y_train_small.astype('int'))\n",
        "y_predicted_linear_SVC = model_linear_SVC.predict(X_test_small)\n",
        "accuracy = accuracy_score(y_test_small.astype('int'),y_predicted_linear_SVC) * float(100)\n",
        "accuracy_linear_svc = str(accuracy)\n",
        "print('Testing Accuracy is: '+accuracy_linear_svc+' %')"
      ],
      "execution_count": null,
      "outputs": []
    },
    {
      "cell_type": "code",
      "metadata": {
        "id": "3nmDN9Ex21PE"
      },
      "source": [
        "print(\"Confusion matrix for Linear Support vector machine:\\n\")\n",
        "fig= plt.figure(figsize=(8,6))\n",
        "ax = fig.add_axes([1,1,1,1])\n",
        "matrix = confusion_matrix(y_test_small.astype('int'), y_predicted_linear_SVC)\n",
        "sb.heatmap(matrix/np.sum(matrix), square=True, annot=True, cmap=\"Reds\")\n",
        "ax.set_xlabel('Actual rating')\n",
        "ax.set_ylabel('Predicted rating')"
      ],
      "execution_count": null,
      "outputs": []
    },
    {
      "cell_type": "code",
      "metadata": {
        "id": "tLS5woc27eDt"
      },
      "source": [
        "from sklearn.linear_model import LogisticRegression,Ridge,RidgeClassifier"
      ],
      "execution_count": 2,
      "outputs": []
    },
    {
      "cell_type": "code",
      "metadata": {
        "colab": {
          "base_uri": "https://localhost:8080/",
          "height": 231
        },
        "id": "Q4e3a11Z23Gw",
        "outputId": "f3c2adcc-b22a-4eb3-bf02-f3b8d8137ada"
      },
      "source": [
        "model_Logistic_Regression = LogisticRegression(max_iter=20000).fit(X_train_small,y_train_small.astype('int'))\n",
        "y_predicted_log_reg = model_Logistic_Regression.predict(X_test_small)\n",
        "accuracy = accuracy_score(y_test_small.astype('int'),y_predicted_log_reg) * float(100)\n",
        "accuracy_log_reg = str(accuracy)\n",
        "print('Testing Accuracy is: '+accuracy_log_reg+' %')"
      ],
      "execution_count": 3,
      "outputs": [
        {
          "output_type": "error",
          "ename": "NameError",
          "evalue": "ignored",
          "traceback": [
            "\u001b[0;31m---------------------------------------------------------------------------\u001b[0m",
            "\u001b[0;31mNameError\u001b[0m                                 Traceback (most recent call last)",
            "\u001b[0;32m<ipython-input-3-7e327cd43cac>\u001b[0m in \u001b[0;36m<module>\u001b[0;34m()\u001b[0m\n\u001b[0;32m----> 1\u001b[0;31m \u001b[0mmodel_Logistic_Regression\u001b[0m \u001b[0;34m=\u001b[0m \u001b[0mLogisticRegression\u001b[0m\u001b[0;34m(\u001b[0m\u001b[0mmax_iter\u001b[0m\u001b[0;34m=\u001b[0m\u001b[0;36m20000\u001b[0m\u001b[0;34m)\u001b[0m\u001b[0;34m.\u001b[0m\u001b[0mfit\u001b[0m\u001b[0;34m(\u001b[0m\u001b[0mX_train_small\u001b[0m\u001b[0;34m,\u001b[0m\u001b[0my_train_small\u001b[0m\u001b[0;34m.\u001b[0m\u001b[0mastype\u001b[0m\u001b[0;34m(\u001b[0m\u001b[0;34m'int'\u001b[0m\u001b[0;34m)\u001b[0m\u001b[0;34m)\u001b[0m\u001b[0;34m\u001b[0m\u001b[0;34m\u001b[0m\u001b[0m\n\u001b[0m\u001b[1;32m      2\u001b[0m \u001b[0my_predicted_log_reg\u001b[0m \u001b[0;34m=\u001b[0m \u001b[0mmodel_Logistic_Regression\u001b[0m\u001b[0;34m.\u001b[0m\u001b[0mpredict\u001b[0m\u001b[0;34m(\u001b[0m\u001b[0mX_test_small\u001b[0m\u001b[0;34m)\u001b[0m\u001b[0;34m\u001b[0m\u001b[0;34m\u001b[0m\u001b[0m\n\u001b[1;32m      3\u001b[0m \u001b[0maccuracy\u001b[0m \u001b[0;34m=\u001b[0m \u001b[0maccuracy_score\u001b[0m\u001b[0;34m(\u001b[0m\u001b[0my_test_small\u001b[0m\u001b[0;34m.\u001b[0m\u001b[0mastype\u001b[0m\u001b[0;34m(\u001b[0m\u001b[0;34m'int'\u001b[0m\u001b[0;34m)\u001b[0m\u001b[0;34m,\u001b[0m\u001b[0my_predicted_log_reg\u001b[0m\u001b[0;34m)\u001b[0m \u001b[0;34m*\u001b[0m \u001b[0mfloat\u001b[0m\u001b[0;34m(\u001b[0m\u001b[0;36m100\u001b[0m\u001b[0;34m)\u001b[0m\u001b[0;34m\u001b[0m\u001b[0;34m\u001b[0m\u001b[0m\n\u001b[1;32m      4\u001b[0m \u001b[0maccuracy_log_reg\u001b[0m \u001b[0;34m=\u001b[0m \u001b[0mstr\u001b[0m\u001b[0;34m(\u001b[0m\u001b[0maccuracy\u001b[0m\u001b[0;34m)\u001b[0m\u001b[0;34m\u001b[0m\u001b[0;34m\u001b[0m\u001b[0m\n\u001b[1;32m      5\u001b[0m \u001b[0mprint\u001b[0m\u001b[0;34m(\u001b[0m\u001b[0;34m'Testing Accuracy is: '\u001b[0m\u001b[0;34m+\u001b[0m\u001b[0maccuracy_log_reg\u001b[0m\u001b[0;34m+\u001b[0m\u001b[0;34m' %'\u001b[0m\u001b[0;34m)\u001b[0m\u001b[0;34m\u001b[0m\u001b[0;34m\u001b[0m\u001b[0m\n",
            "\u001b[0;31mNameError\u001b[0m: name 'X_train_small' is not defined"
          ]
        }
      ]
    },
    {
      "cell_type": "code",
      "metadata": {
        "id": "qhm1-BAR25U7"
      },
      "source": [
        "print(\"Confusion matrix for Logistic regression:\\n\")\n",
        "fig= plt.figure(figsize=(8,6))\n",
        "ax = fig.add_axes([1,1,1,1])\n",
        "matrix = confusion_matrix(y_test_small.astype('int'), y_predicted_log_reg)\n",
        "sb.heatmap(matrix/np.sum(matrix), square=True, annot=True, cmap=\"BuPu\")\n",
        "ax.set_xlabel('Actual rating')\n",
        "ax.set_ylabel('Predicted rating')"
      ],
      "execution_count": null,
      "outputs": []
    },
    {
      "cell_type": "code",
      "metadata": {
        "id": "73yCt_NN27sC"
      },
      "source": [
        "model_kNN = KNeighborsClassifier(n_neighbors=10).fit(X_train_small,y_train_small.astype('int'))\n",
        "y_predicted_knn = model_kNN.predict(X_test_small)\n",
        "accuracy = accuracy_score(y_test_small.astype('int'),y_predicted_knn) * float(100)\n",
        "accuracy_knn = str(accuracy)\n",
        "print('Testing Accuracy is: '+accuracy_knn+' %')"
      ],
      "execution_count": null,
      "outputs": []
    },
    {
      "cell_type": "code",
      "metadata": {
        "id": "NnmLOo6w3Qvk"
      },
      "source": [
        "print(\"Confusion matrix for kNN:\\n\")\n",
        "matrix = confusion_matrix(y_test_small.astype('int'), y_predicted_knn)\n",
        "fig= plt.figure(figsize=(8,6))\n",
        "ax = fig.add_axes([1,1,1,1])\n",
        "sb.heatmap(matrix/np.sum(matrix), square=True, annot=True, cmap=\"RdPu\")\n",
        "ax.set_xlabel('Actual rating')\n",
        "ax.set_ylabel('Predicted rating')"
      ],
      "execution_count": null,
      "outputs": []
    },
    {
      "cell_type": "code",
      "metadata": {
        "id": "wxCmSDR33SnQ"
      },
      "source": [
        "from sklearn.ensemble import VotingClassifier\n",
        "Ensemble = VotingClassifier(estimators=[('Linear SVC',model_SVC),('knn',model_kNN),('logistic',model_Logistic_Regression)],voting='soft',weights=[2,1,3])\n",
        "model_ensemble = Ensemble.fit(X_train_small,y_train_small.astype('int'))\n",
        "ensemble_predicted = model_ensemble.predict(X_test_small)\n",
        "accuracy_ensemble = accuracy_score(ensemble_predicted,y_test_small.astype('int'))* float(100)\n",
        "accuracy_ensemble = str(accuracy_ensemble)\n",
        "print('Testing Accuracy is: '+accuracy_ensemble+' %')"
      ],
      "execution_count": null,
      "outputs": []
    },
    {
      "cell_type": "code",
      "metadata": {
        "id": "8BaaDitU3U-i"
      },
      "source": [
        "print(\"Confusion matrix for Ensemble methos for given estimators:\\n\")\n",
        "matrix = confusion_matrix(y_test_small.astype('int'), ensemble_predicted)\n",
        "fig= plt.figure(figsize=(8,6))\n",
        "ax = fig.add_axes([1,1,1,1])\n",
        "sb.heatmap(matrix/np.sum(matrix), square=True, annot=True, cmap=\"Purples\")\n",
        "ax.set_xlabel('Actual rating')\n",
        "ax.set_ylabel('Predicted rating')"
      ],
      "execution_count": null,
      "outputs": []
    },
    {
      "cell_type": "code",
      "metadata": {
        "id": "whAUIKBC3WnL"
      },
      "source": [
        "acc1 = float(accuracy_mNB)\n",
        "acc2 = float(ridge_class_accuracy)\n",
        "acc3 = float(accuracy_svc)\n",
        "acc4 = float(accuracy_linear_svc)\n",
        "acc5 = float(accuracy_log_reg)\n",
        "acc6 = float(accuracy_knn)"
      ],
      "execution_count": null,
      "outputs": []
    },
    {
      "cell_type": "code",
      "metadata": {
        "id": "bF67ANsf3Yix"
      },
      "source": [
        "acc=[]\n",
        "acc.append(acc1)\n",
        "acc.append(acc2)\n",
        "acc.append(acc3)\n",
        "acc.append(acc4)\n",
        "acc.append(acc5)\n",
        "acc.append(acc6)"
      ],
      "execution_count": null,
      "outputs": []
    },
    {
      "cell_type": "code",
      "metadata": {
        "id": "ZY7-X9qQ3aJ-"
      },
      "source": [
        "fig = plt.figure(figsize=(9,6))\n",
        "labels = ['MNB','Ridge','SVM','Linear SVC','Logistic','kNN']\n",
        "#acc = [30.163762894479778,31.38057970977864, 28.67777777777778, 26.0, 28.633333333333333, 22.53333333333333]\n",
        "ax = fig.add_axes([0, 0, 1, 1])\n",
        "ax.bar(labels,acc)\n",
        "plt.ylim(0,35)\n",
        "plt.show()"
      ],
      "execution_count": null,
      "outputs": []
    },
    {
      "cell_type": "code",
      "metadata": {
        "id": "EglAIPii3bl4"
      },
      "source": [
        "def redge_acc(smt):\n",
        "  smt=[smt] #converting text into array for code compatibility\n",
        "  smt = vectorizer.transform(smt) #vectorize data\n",
        "  smt = transformer.fit_transform(smt) #transforming input string vector\n",
        "  prediction = np.round(model_ridge_class.predict(smt)) #using ridge classifier trained model to predict rating for what user has gave input\n",
        "  return prediction"
      ],
      "execution_count": null,
      "outputs": []
    },
    {
      "cell_type": "code",
      "metadata": {
        "id": "Vory5yIE3fFr"
      },
      "source": [
        "while True:\n",
        "  smt = input(\"Insert your review: \\n\")\n",
        "  rating_prediction = redge_acc(smt)\n",
        "  print(\"\\nRating: \",int(rating_prediction))\n",
        "  print(\"\\n\")"
      ],
      "execution_count": null,
      "outputs": []
    },
    {
      "cell_type": "code",
      "metadata": {
        "id": "BUDZFqAf3jV6"
      },
      "source": [
        "os.chdir('/content/gdrive/My Drive/Colab Notebooks')\n",
        "from sklearn.externals import joblib\n",
        "joblib.dump(model_ridge_class,'model_ridge_class.sav')\n",
        "joblib.dump(model_mNB,'model_mNB.sav')\n",
        "joblib.dump(model_SVC,'model_SVC.sav')\n",
        "joblib.dump(model_linear_SVC,'model_linear_svc.sav')\n",
        "joblib.dump(model_Logistic_Regression,'model_logistic_regression.sav')\n",
        "joblib.dump(model_kNN,'model_knn.sav')\n",
        "joblib.dump(model_ensemble,'model_ensemble.sav')\n",
        "joblib.dump(vectorizer,'vectorizer.sav')\n",
        "joblib.dump(transformer,'transformer.sav')"
      ],
      "execution_count": null,
      "outputs": []
    },
    {
      "cell_type": "code",
      "metadata": {
        "id": "Fq0DlEVr3nS0"
      },
      "source": [
        ""
      ],
      "execution_count": null,
      "outputs": []
    }
  ]
}